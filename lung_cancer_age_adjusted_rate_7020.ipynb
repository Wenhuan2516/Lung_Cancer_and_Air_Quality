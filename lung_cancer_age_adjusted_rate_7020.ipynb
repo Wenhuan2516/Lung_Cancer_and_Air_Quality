{
 "cells": [
  {
   "cell_type": "code",
   "execution_count": 46,
   "id": "b2a23835-7719-475a-b0f9-ab574dbf2f98",
   "metadata": {
    "tags": []
   },
   "outputs": [],
   "source": [
    "import dask.dataframe as ddf\n",
    "import pandas as pd\n",
    "import datetime\n",
    "import functools\n",
    "import seaborn as sns\n",
    "import matplotlib.pyplot as plt"
   ]
  },
  {
   "cell_type": "markdown",
   "id": "df5e2d75-f0d6-447e-aa11-414a6101b37c",
   "metadata": {},
   "source": [
    "### Import 2000 standard population"
   ]
  },
  {
   "cell_type": "code",
   "execution_count": 47,
   "id": "aa6e0a34-3ca3-44b4-8570-5229ae68c456",
   "metadata": {
    "tags": []
   },
   "outputs": [],
   "source": [
    "year = 1970"
   ]
  },
  {
   "cell_type": "code",
   "execution_count": 48,
   "id": "422193f0-629e-42a9-95ea-69cb06c3b671",
   "metadata": {
    "tags": []
   },
   "outputs": [
    {
     "data": {
      "text/html": [
       "<div>\n",
       "<style scoped>\n",
       "    .dataframe tbody tr th:only-of-type {\n",
       "        vertical-align: middle;\n",
       "    }\n",
       "\n",
       "    .dataframe tbody tr th {\n",
       "        vertical-align: top;\n",
       "    }\n",
       "\n",
       "    .dataframe thead th {\n",
       "        text-align: right;\n",
       "    }\n",
       "</style>\n",
       "<table border=\"1\" class=\"dataframe\">\n",
       "  <thead>\n",
       "    <tr style=\"text-align: right;\">\n",
       "      <th></th>\n",
       "      <th>Age</th>\n",
       "      <th>Number</th>\n",
       "      <th>Weight</th>\n",
       "    </tr>\n",
       "  </thead>\n",
       "  <tbody>\n",
       "    <tr>\n",
       "      <th>0</th>\n",
       "      <td>All ages</td>\n",
       "      <td>1000000</td>\n",
       "      <td>1.000000</td>\n",
       "    </tr>\n",
       "    <tr>\n",
       "      <th>1</th>\n",
       "      <td>Under 1 year</td>\n",
       "      <td>13818</td>\n",
       "      <td>0.013818</td>\n",
       "    </tr>\n",
       "    <tr>\n",
       "      <th>2</th>\n",
       "      <td>1-4 years</td>\n",
       "      <td>55317</td>\n",
       "      <td>0.055317</td>\n",
       "    </tr>\n",
       "    <tr>\n",
       "      <th>3</th>\n",
       "      <td>5-14 years</td>\n",
       "      <td>145565</td>\n",
       "      <td>0.145565</td>\n",
       "    </tr>\n",
       "    <tr>\n",
       "      <th>4</th>\n",
       "      <td>15-24 years</td>\n",
       "      <td>138646</td>\n",
       "      <td>0.138646</td>\n",
       "    </tr>\n",
       "    <tr>\n",
       "      <th>5</th>\n",
       "      <td>25-34 years</td>\n",
       "      <td>135573</td>\n",
       "      <td>0.135573</td>\n",
       "    </tr>\n",
       "    <tr>\n",
       "      <th>6</th>\n",
       "      <td>35-44 years</td>\n",
       "      <td>162613</td>\n",
       "      <td>0.162613</td>\n",
       "    </tr>\n",
       "    <tr>\n",
       "      <th>7</th>\n",
       "      <td>45-54 years</td>\n",
       "      <td>134834</td>\n",
       "      <td>0.134834</td>\n",
       "    </tr>\n",
       "    <tr>\n",
       "      <th>8</th>\n",
       "      <td>55-64 years</td>\n",
       "      <td>87247</td>\n",
       "      <td>0.087247</td>\n",
       "    </tr>\n",
       "    <tr>\n",
       "      <th>9</th>\n",
       "      <td>65-74 years</td>\n",
       "      <td>66037</td>\n",
       "      <td>0.066037</td>\n",
       "    </tr>\n",
       "    <tr>\n",
       "      <th>10</th>\n",
       "      <td>75-84 years</td>\n",
       "      <td>44842</td>\n",
       "      <td>0.044842</td>\n",
       "    </tr>\n",
       "    <tr>\n",
       "      <th>11</th>\n",
       "      <td>85 years and over</td>\n",
       "      <td>15508</td>\n",
       "      <td>0.015508</td>\n",
       "    </tr>\n",
       "  </tbody>\n",
       "</table>\n",
       "</div>"
      ],
      "text/plain": [
       "                  Age  Number       Weight\n",
       "0            All ages   1000000   1.000000\n",
       "1        Under 1 year     13818   0.013818\n",
       "2           1-4 years     55317   0.055317\n",
       "3          5-14 years    145565   0.145565\n",
       "4         15-24 years    138646   0.138646\n",
       "5         25-34 years    135573   0.135573\n",
       "6         35-44 years    162613   0.162613\n",
       "7         45-54 years    134834   0.134834\n",
       "8         55-64 years     87247   0.087247\n",
       "9         65-74 years     66037   0.066037\n",
       "10        75-84 years     44842   0.044842\n",
       "11  85 years and over     15508   0.015508"
      ]
     },
     "execution_count": 48,
     "metadata": {},
     "output_type": "execute_result"
    }
   ],
   "source": [
    "standard_pop = pd.read_csv('2000_standard_population.csv')\n",
    "standard_pop"
   ]
  },
  {
   "cell_type": "code",
   "execution_count": 49,
   "id": "f65c68a9-1f57-46a3-9430-48fc3ceb5610",
   "metadata": {
    "tags": []
   },
   "outputs": [
    {
     "data": {
      "text/html": [
       "<div>\n",
       "<style scoped>\n",
       "    .dataframe tbody tr th:only-of-type {\n",
       "        vertical-align: middle;\n",
       "    }\n",
       "\n",
       "    .dataframe tbody tr th {\n",
       "        vertical-align: top;\n",
       "    }\n",
       "\n",
       "    .dataframe thead th {\n",
       "        text-align: right;\n",
       "    }\n",
       "</style>\n",
       "<table border=\"1\" class=\"dataframe\">\n",
       "  <thead>\n",
       "    <tr style=\"text-align: right;\">\n",
       "      <th></th>\n",
       "      <th>Age</th>\n",
       "      <th>Number</th>\n",
       "      <th>Weight</th>\n",
       "    </tr>\n",
       "  </thead>\n",
       "  <tbody>\n",
       "    <tr>\n",
       "      <th>1</th>\n",
       "      <td>Under 1 year</td>\n",
       "      <td>13818</td>\n",
       "      <td>0.013818</td>\n",
       "    </tr>\n",
       "    <tr>\n",
       "      <th>2</th>\n",
       "      <td>1-4 years</td>\n",
       "      <td>55317</td>\n",
       "      <td>0.055317</td>\n",
       "    </tr>\n",
       "    <tr>\n",
       "      <th>3</th>\n",
       "      <td>5-14 years</td>\n",
       "      <td>145565</td>\n",
       "      <td>0.145565</td>\n",
       "    </tr>\n",
       "    <tr>\n",
       "      <th>4</th>\n",
       "      <td>15-24 years</td>\n",
       "      <td>138646</td>\n",
       "      <td>0.138646</td>\n",
       "    </tr>\n",
       "    <tr>\n",
       "      <th>5</th>\n",
       "      <td>25-34 years</td>\n",
       "      <td>135573</td>\n",
       "      <td>0.135573</td>\n",
       "    </tr>\n",
       "    <tr>\n",
       "      <th>6</th>\n",
       "      <td>35-44 years</td>\n",
       "      <td>162613</td>\n",
       "      <td>0.162613</td>\n",
       "    </tr>\n",
       "    <tr>\n",
       "      <th>7</th>\n",
       "      <td>45-54 years</td>\n",
       "      <td>134834</td>\n",
       "      <td>0.134834</td>\n",
       "    </tr>\n",
       "    <tr>\n",
       "      <th>8</th>\n",
       "      <td>55-64 years</td>\n",
       "      <td>87247</td>\n",
       "      <td>0.087247</td>\n",
       "    </tr>\n",
       "    <tr>\n",
       "      <th>9</th>\n",
       "      <td>65-74 years</td>\n",
       "      <td>66037</td>\n",
       "      <td>0.066037</td>\n",
       "    </tr>\n",
       "    <tr>\n",
       "      <th>10</th>\n",
       "      <td>75-84 years</td>\n",
       "      <td>44842</td>\n",
       "      <td>0.044842</td>\n",
       "    </tr>\n",
       "    <tr>\n",
       "      <th>11</th>\n",
       "      <td>85 years and over</td>\n",
       "      <td>15508</td>\n",
       "      <td>0.015508</td>\n",
       "    </tr>\n",
       "  </tbody>\n",
       "</table>\n",
       "</div>"
      ],
      "text/plain": [
       "                  Age  Number       Weight\n",
       "1        Under 1 year     13818   0.013818\n",
       "2           1-4 years     55317   0.055317\n",
       "3          5-14 years    145565   0.145565\n",
       "4         15-24 years    138646   0.138646\n",
       "5         25-34 years    135573   0.135573\n",
       "6         35-44 years    162613   0.162613\n",
       "7         45-54 years    134834   0.134834\n",
       "8         55-64 years     87247   0.087247\n",
       "9         65-74 years     66037   0.066037\n",
       "10        75-84 years     44842   0.044842\n",
       "11  85 years and over     15508   0.015508"
      ]
     },
     "execution_count": 49,
     "metadata": {},
     "output_type": "execute_result"
    }
   ],
   "source": [
    "standard_pop = standard_pop.iloc[1: , :]\n",
    "standard_pop"
   ]
  },
  {
   "cell_type": "code",
   "execution_count": 50,
   "id": "3421daf7-7504-4c96-a9b2-e41e06a03924",
   "metadata": {
    "tags": []
   },
   "outputs": [
    {
     "data": {
      "text/plain": [
       "array(['Under 1 year', '1-4 years', '5-14 years', '15-24 years',\n",
       "       '25-34 years', '35-44 years', '45-54 years', '55-64 years',\n",
       "       '65-74 years', '75-84 years', '85 years and over'], dtype=object)"
      ]
     },
     "execution_count": 50,
     "metadata": {},
     "output_type": "execute_result"
    }
   ],
   "source": [
    "standard_pop['Age'].unique()"
   ]
  },
  {
   "cell_type": "markdown",
   "id": "10f618fb-1105-46a2-bea7-054a5c46e00e",
   "metadata": {},
   "source": [
    "### Import real population data"
   ]
  },
  {
   "cell_type": "code",
   "execution_count": 51,
   "id": "49129a0d-9792-4b3d-9215-6d60f6f32f59",
   "metadata": {
    "tags": []
   },
   "outputs": [
    {
     "data": {
      "text/html": [
       "<div>\n",
       "<style scoped>\n",
       "    .dataframe tbody tr th:only-of-type {\n",
       "        vertical-align: middle;\n",
       "    }\n",
       "\n",
       "    .dataframe tbody tr th {\n",
       "        vertical-align: top;\n",
       "    }\n",
       "\n",
       "    .dataframe thead th {\n",
       "        text-align: right;\n",
       "    }\n",
       "</style>\n",
       "<table border=\"1\" class=\"dataframe\">\n",
       "  <thead>\n",
       "    <tr style=\"text-align: right;\">\n",
       "      <th></th>\n",
       "      <th>year</th>\n",
       "      <th>state</th>\n",
       "      <th>fips</th>\n",
       "      <th>race</th>\n",
       "      <th>sex</th>\n",
       "      <th>age</th>\n",
       "      <th>pop</th>\n",
       "    </tr>\n",
       "  </thead>\n",
       "  <tbody>\n",
       "    <tr>\n",
       "      <th>0</th>\n",
       "      <td>1969</td>\n",
       "      <td>AL</td>\n",
       "      <td>01001</td>\n",
       "      <td>white</td>\n",
       "      <td>Male</td>\n",
       "      <td>0 years</td>\n",
       "      <td>159</td>\n",
       "    </tr>\n",
       "    <tr>\n",
       "      <th>1</th>\n",
       "      <td>1969</td>\n",
       "      <td>AL</td>\n",
       "      <td>01001</td>\n",
       "      <td>white</td>\n",
       "      <td>Male</td>\n",
       "      <td>1-4 years</td>\n",
       "      <td>657</td>\n",
       "    </tr>\n",
       "    <tr>\n",
       "      <th>2</th>\n",
       "      <td>1969</td>\n",
       "      <td>AL</td>\n",
       "      <td>01001</td>\n",
       "      <td>white</td>\n",
       "      <td>Male</td>\n",
       "      <td>5-9 years</td>\n",
       "      <td>1137</td>\n",
       "    </tr>\n",
       "    <tr>\n",
       "      <th>3</th>\n",
       "      <td>1969</td>\n",
       "      <td>AL</td>\n",
       "      <td>01001</td>\n",
       "      <td>white</td>\n",
       "      <td>Male</td>\n",
       "      <td>10-14 years</td>\n",
       "      <td>956</td>\n",
       "    </tr>\n",
       "    <tr>\n",
       "      <th>4</th>\n",
       "      <td>1969</td>\n",
       "      <td>AL</td>\n",
       "      <td>01001</td>\n",
       "      <td>white</td>\n",
       "      <td>Male</td>\n",
       "      <td>15-19 years</td>\n",
       "      <td>721</td>\n",
       "    </tr>\n",
       "    <tr>\n",
       "      <th>...</th>\n",
       "      <td>...</td>\n",
       "      <td>...</td>\n",
       "      <td>...</td>\n",
       "      <td>...</td>\n",
       "      <td>...</td>\n",
       "      <td>...</td>\n",
       "      <td>...</td>\n",
       "    </tr>\n",
       "    <tr>\n",
       "      <th>15536023</th>\n",
       "      <td>2020</td>\n",
       "      <td>WY</td>\n",
       "      <td>56045</td>\n",
       "      <td>other</td>\n",
       "      <td>Female</td>\n",
       "      <td>65-69 years</td>\n",
       "      <td>21</td>\n",
       "    </tr>\n",
       "    <tr>\n",
       "      <th>15536024</th>\n",
       "      <td>2020</td>\n",
       "      <td>WY</td>\n",
       "      <td>56045</td>\n",
       "      <td>other</td>\n",
       "      <td>Female</td>\n",
       "      <td>70-74 years</td>\n",
       "      <td>2</td>\n",
       "    </tr>\n",
       "    <tr>\n",
       "      <th>15536025</th>\n",
       "      <td>2020</td>\n",
       "      <td>WY</td>\n",
       "      <td>56045</td>\n",
       "      <td>other</td>\n",
       "      <td>Female</td>\n",
       "      <td>75-79 years</td>\n",
       "      <td>2</td>\n",
       "    </tr>\n",
       "    <tr>\n",
       "      <th>15536026</th>\n",
       "      <td>2020</td>\n",
       "      <td>WY</td>\n",
       "      <td>56045</td>\n",
       "      <td>other</td>\n",
       "      <td>Female</td>\n",
       "      <td>80-84 years</td>\n",
       "      <td>2</td>\n",
       "    </tr>\n",
       "    <tr>\n",
       "      <th>15536027</th>\n",
       "      <td>2020</td>\n",
       "      <td>WY</td>\n",
       "      <td>56045</td>\n",
       "      <td>other</td>\n",
       "      <td>Female</td>\n",
       "      <td>over 85 years</td>\n",
       "      <td>2</td>\n",
       "    </tr>\n",
       "  </tbody>\n",
       "</table>\n",
       "<p>15536028 rows × 7 columns</p>\n",
       "</div>"
      ],
      "text/plain": [
       "          year state   fips   race     sex            age   pop\n",
       "0         1969    AL  01001  white    Male        0 years   159\n",
       "1         1969    AL  01001  white    Male      1-4 years   657\n",
       "2         1969    AL  01001  white    Male      5-9 years  1137\n",
       "3         1969    AL  01001  white    Male    10-14 years   956\n",
       "4         1969    AL  01001  white    Male    15-19 years   721\n",
       "...        ...   ...    ...    ...     ...            ...   ...\n",
       "15536023  2020    WY  56045  other  Female    65-69 years    21\n",
       "15536024  2020    WY  56045  other  Female    70-74 years     2\n",
       "15536025  2020    WY  56045  other  Female    75-79 years     2\n",
       "15536026  2020    WY  56045  other  Female    80-84 years     2\n",
       "15536027  2020    WY  56045  other  Female  over 85 years     2\n",
       "\n",
       "[15536028 rows x 7 columns]"
      ]
     },
     "execution_count": 51,
     "metadata": {},
     "output_type": "execute_result"
    }
   ],
   "source": [
    "pop = pd.read_csv('/global/cfs/cdirs/m1532/Projects_MVP/geospatial/temp_bins_suicide/Population/population_detailed_1969-2020.csv', dtype = {'year': int, 'fips': str})\n",
    "pop = pop.loc[:, ~pop.columns.str.contains('^Unnamed')]\n",
    "pop"
   ]
  },
  {
   "cell_type": "code",
   "execution_count": 52,
   "id": "ce128a2a-c28b-44f2-b354-9d3b46d6f0a4",
   "metadata": {
    "tags": []
   },
   "outputs": [
    {
     "data": {
      "text/plain": [
       "array(['0 years', '1-4 years', '5-9 years', '10-14 years', '15-19 years',\n",
       "       '20-24 years', '25-29 years', '30-34 years', '35-39 years',\n",
       "       '40-44 years', '45-49 years', '50-54 years', '55-59 years',\n",
       "       '60-64 years', '65-69 years', '70-74 years', '75-79 years',\n",
       "       '80-84 years', 'over 85 years'], dtype=object)"
      ]
     },
     "execution_count": 52,
     "metadata": {},
     "output_type": "execute_result"
    }
   ],
   "source": [
    "pop['age'].unique()"
   ]
  },
  {
   "cell_type": "code",
   "execution_count": 53,
   "id": "3a4cd21f-ad09-481b-992a-1c0b5b671675",
   "metadata": {
    "tags": []
   },
   "outputs": [],
   "source": [
    "age_replace = {'0 years': 'Under 1 year', '5-9 years': '5-14 years', '10-14 years': '5-14 years', \n",
    "               '15-19 years': '15-24 years', '20-24 years': '15-24 years', '25-29 years': '25-34 years',\n",
    "               '30-34 years': '25-34 years', '35-39 years': '35-44 years', '40-44 years': '35-44 years', \n",
    "               '45-49 years': '45-54 years', '50-54 years': '45-54 years', '55-59 years': '55-64 years',\n",
    "               '60-64 years': '55-64 years', '65-69 years': '65-74 years', '70-74 years': '65-74 years', \n",
    "               '75-79 years': '75-84 years', '80-84 years': '75-84 years', 'over 85 years': '85 years and over'}"
   ]
  },
  {
   "cell_type": "code",
   "execution_count": 54,
   "id": "d8787416-0c98-42fa-8789-a93b956b11b6",
   "metadata": {
    "tags": []
   },
   "outputs": [
    {
     "data": {
      "text/html": [
       "<div>\n",
       "<style scoped>\n",
       "    .dataframe tbody tr th:only-of-type {\n",
       "        vertical-align: middle;\n",
       "    }\n",
       "\n",
       "    .dataframe tbody tr th {\n",
       "        vertical-align: top;\n",
       "    }\n",
       "\n",
       "    .dataframe thead th {\n",
       "        text-align: right;\n",
       "    }\n",
       "</style>\n",
       "<table border=\"1\" class=\"dataframe\">\n",
       "  <thead>\n",
       "    <tr style=\"text-align: right;\">\n",
       "      <th></th>\n",
       "      <th>year</th>\n",
       "      <th>state</th>\n",
       "      <th>fips</th>\n",
       "      <th>race</th>\n",
       "      <th>sex</th>\n",
       "      <th>age</th>\n",
       "      <th>pop</th>\n",
       "    </tr>\n",
       "  </thead>\n",
       "  <tbody>\n",
       "    <tr>\n",
       "      <th>0</th>\n",
       "      <td>1969</td>\n",
       "      <td>AL</td>\n",
       "      <td>01001</td>\n",
       "      <td>white</td>\n",
       "      <td>Male</td>\n",
       "      <td>Under 1 year</td>\n",
       "      <td>159</td>\n",
       "    </tr>\n",
       "    <tr>\n",
       "      <th>1</th>\n",
       "      <td>1969</td>\n",
       "      <td>AL</td>\n",
       "      <td>01001</td>\n",
       "      <td>white</td>\n",
       "      <td>Male</td>\n",
       "      <td>1-4 years</td>\n",
       "      <td>657</td>\n",
       "    </tr>\n",
       "    <tr>\n",
       "      <th>2</th>\n",
       "      <td>1969</td>\n",
       "      <td>AL</td>\n",
       "      <td>01001</td>\n",
       "      <td>white</td>\n",
       "      <td>Male</td>\n",
       "      <td>5-14 years</td>\n",
       "      <td>1137</td>\n",
       "    </tr>\n",
       "    <tr>\n",
       "      <th>3</th>\n",
       "      <td>1969</td>\n",
       "      <td>AL</td>\n",
       "      <td>01001</td>\n",
       "      <td>white</td>\n",
       "      <td>Male</td>\n",
       "      <td>5-14 years</td>\n",
       "      <td>956</td>\n",
       "    </tr>\n",
       "    <tr>\n",
       "      <th>4</th>\n",
       "      <td>1969</td>\n",
       "      <td>AL</td>\n",
       "      <td>01001</td>\n",
       "      <td>white</td>\n",
       "      <td>Male</td>\n",
       "      <td>15-24 years</td>\n",
       "      <td>721</td>\n",
       "    </tr>\n",
       "  </tbody>\n",
       "</table>\n",
       "</div>"
      ],
      "text/plain": [
       "   year state   fips   race   sex           age   pop\n",
       "0  1969    AL  01001  white  Male  Under 1 year   159\n",
       "1  1969    AL  01001  white  Male     1-4 years   657\n",
       "2  1969    AL  01001  white  Male    5-14 years  1137\n",
       "3  1969    AL  01001  white  Male    5-14 years   956\n",
       "4  1969    AL  01001  white  Male   15-24 years   721"
      ]
     },
     "execution_count": 54,
     "metadata": {},
     "output_type": "execute_result"
    }
   ],
   "source": [
    "pop['age'] = pop['age'].replace(age_replace)\n",
    "pop.head()"
   ]
  },
  {
   "cell_type": "code",
   "execution_count": 55,
   "id": "7ab6348f-2f5a-40e2-b943-297074334653",
   "metadata": {
    "tags": []
   },
   "outputs": [
    {
     "data": {
      "text/html": [
       "<div>\n",
       "<style scoped>\n",
       "    .dataframe tbody tr th:only-of-type {\n",
       "        vertical-align: middle;\n",
       "    }\n",
       "\n",
       "    .dataframe tbody tr th {\n",
       "        vertical-align: top;\n",
       "    }\n",
       "\n",
       "    .dataframe thead th {\n",
       "        text-align: right;\n",
       "    }\n",
       "</style>\n",
       "<table border=\"1\" class=\"dataframe\">\n",
       "  <thead>\n",
       "    <tr style=\"text-align: right;\">\n",
       "      <th></th>\n",
       "      <th>year</th>\n",
       "      <th>fips</th>\n",
       "      <th>race</th>\n",
       "      <th>sex</th>\n",
       "      <th>age</th>\n",
       "      <th>pop</th>\n",
       "    </tr>\n",
       "  </thead>\n",
       "  <tbody>\n",
       "    <tr>\n",
       "      <th>0</th>\n",
       "      <td>1969</td>\n",
       "      <td>01001</td>\n",
       "      <td>black</td>\n",
       "      <td>Female</td>\n",
       "      <td>1-4 years</td>\n",
       "      <td>31</td>\n",
       "    </tr>\n",
       "    <tr>\n",
       "      <th>1</th>\n",
       "      <td>1969</td>\n",
       "      <td>01001</td>\n",
       "      <td>black</td>\n",
       "      <td>Female</td>\n",
       "      <td>15-24 years</td>\n",
       "      <td>238</td>\n",
       "    </tr>\n",
       "    <tr>\n",
       "      <th>2</th>\n",
       "      <td>1969</td>\n",
       "      <td>01001</td>\n",
       "      <td>black</td>\n",
       "      <td>Female</td>\n",
       "      <td>25-34 years</td>\n",
       "      <td>318</td>\n",
       "    </tr>\n",
       "    <tr>\n",
       "      <th>3</th>\n",
       "      <td>1969</td>\n",
       "      <td>01001</td>\n",
       "      <td>black</td>\n",
       "      <td>Female</td>\n",
       "      <td>35-44 years</td>\n",
       "      <td>328</td>\n",
       "    </tr>\n",
       "    <tr>\n",
       "      <th>4</th>\n",
       "      <td>1969</td>\n",
       "      <td>01001</td>\n",
       "      <td>black</td>\n",
       "      <td>Female</td>\n",
       "      <td>45-54 years</td>\n",
       "      <td>295</td>\n",
       "    </tr>\n",
       "  </tbody>\n",
       "</table>\n",
       "</div>"
      ],
      "text/plain": [
       "   year   fips   race     sex          age  pop\n",
       "0  1969  01001  black  Female    1-4 years   31\n",
       "1  1969  01001  black  Female  15-24 years  238\n",
       "2  1969  01001  black  Female  25-34 years  318\n",
       "3  1969  01001  black  Female  35-44 years  328\n",
       "4  1969  01001  black  Female  45-54 years  295"
      ]
     },
     "execution_count": 55,
     "metadata": {},
     "output_type": "execute_result"
    }
   ],
   "source": [
    "pop_year = pop.drop(['state'], axis = 1)\n",
    "pop_year = pop_year.groupby(['year', 'fips', 'race', 'sex', 'age']).sum()\n",
    "pop_year = pop_year.reset_index()\n",
    "pop_year.head()"
   ]
  },
  {
   "cell_type": "code",
   "execution_count": 56,
   "id": "679da52d-f326-4550-b994-c59763d0f9a7",
   "metadata": {
    "tags": []
   },
   "outputs": [
    {
     "data": {
      "text/html": [
       "<div>\n",
       "<style scoped>\n",
       "    .dataframe tbody tr th:only-of-type {\n",
       "        vertical-align: middle;\n",
       "    }\n",
       "\n",
       "    .dataframe tbody tr th {\n",
       "        vertical-align: top;\n",
       "    }\n",
       "\n",
       "    .dataframe thead th {\n",
       "        text-align: right;\n",
       "    }\n",
       "</style>\n",
       "<table border=\"1\" class=\"dataframe\">\n",
       "  <thead>\n",
       "    <tr style=\"text-align: right;\">\n",
       "      <th></th>\n",
       "      <th>year</th>\n",
       "      <th>fips</th>\n",
       "      <th>race</th>\n",
       "      <th>sex</th>\n",
       "      <th>age</th>\n",
       "      <th>pop</th>\n",
       "    </tr>\n",
       "  </thead>\n",
       "  <tbody>\n",
       "    <tr>\n",
       "      <th>0</th>\n",
       "      <td>1969</td>\n",
       "      <td>01001</td>\n",
       "      <td>black</td>\n",
       "      <td>Female</td>\n",
       "      <td>1-4 years</td>\n",
       "      <td>31</td>\n",
       "    </tr>\n",
       "    <tr>\n",
       "      <th>1</th>\n",
       "      <td>1969</td>\n",
       "      <td>01001</td>\n",
       "      <td>black</td>\n",
       "      <td>Female</td>\n",
       "      <td>15-24 years</td>\n",
       "      <td>238</td>\n",
       "    </tr>\n",
       "    <tr>\n",
       "      <th>2</th>\n",
       "      <td>1969</td>\n",
       "      <td>01001</td>\n",
       "      <td>black</td>\n",
       "      <td>Female</td>\n",
       "      <td>25-34 years</td>\n",
       "      <td>318</td>\n",
       "    </tr>\n",
       "    <tr>\n",
       "      <th>3</th>\n",
       "      <td>1969</td>\n",
       "      <td>01001</td>\n",
       "      <td>black</td>\n",
       "      <td>Female</td>\n",
       "      <td>35-44 years</td>\n",
       "      <td>328</td>\n",
       "    </tr>\n",
       "    <tr>\n",
       "      <th>4</th>\n",
       "      <td>1969</td>\n",
       "      <td>01001</td>\n",
       "      <td>black</td>\n",
       "      <td>Female</td>\n",
       "      <td>45-54 years</td>\n",
       "      <td>295</td>\n",
       "    </tr>\n",
       "    <tr>\n",
       "      <th>...</th>\n",
       "      <td>...</td>\n",
       "      <td>...</td>\n",
       "      <td>...</td>\n",
       "      <td>...</td>\n",
       "      <td>...</td>\n",
       "      <td>...</td>\n",
       "    </tr>\n",
       "    <tr>\n",
       "      <th>9230030</th>\n",
       "      <td>2020</td>\n",
       "      <td>56045</td>\n",
       "      <td>white</td>\n",
       "      <td>Male</td>\n",
       "      <td>55-64 years</td>\n",
       "      <td>556</td>\n",
       "    </tr>\n",
       "    <tr>\n",
       "      <th>9230031</th>\n",
       "      <td>2020</td>\n",
       "      <td>56045</td>\n",
       "      <td>white</td>\n",
       "      <td>Male</td>\n",
       "      <td>65-74 years</td>\n",
       "      <td>461</td>\n",
       "    </tr>\n",
       "    <tr>\n",
       "      <th>9230032</th>\n",
       "      <td>2020</td>\n",
       "      <td>56045</td>\n",
       "      <td>white</td>\n",
       "      <td>Male</td>\n",
       "      <td>75-84 years</td>\n",
       "      <td>178</td>\n",
       "    </tr>\n",
       "    <tr>\n",
       "      <th>9230033</th>\n",
       "      <td>2020</td>\n",
       "      <td>56045</td>\n",
       "      <td>white</td>\n",
       "      <td>Male</td>\n",
       "      <td>85 years and over</td>\n",
       "      <td>8</td>\n",
       "    </tr>\n",
       "    <tr>\n",
       "      <th>9230034</th>\n",
       "      <td>2020</td>\n",
       "      <td>56045</td>\n",
       "      <td>white</td>\n",
       "      <td>Male</td>\n",
       "      <td>Under 1 year</td>\n",
       "      <td>24</td>\n",
       "    </tr>\n",
       "  </tbody>\n",
       "</table>\n",
       "<p>9230035 rows × 6 columns</p>\n",
       "</div>"
      ],
      "text/plain": [
       "         year   fips   race     sex                age  pop\n",
       "0        1969  01001  black  Female          1-4 years   31\n",
       "1        1969  01001  black  Female        15-24 years  238\n",
       "2        1969  01001  black  Female        25-34 years  318\n",
       "3        1969  01001  black  Female        35-44 years  328\n",
       "4        1969  01001  black  Female        45-54 years  295\n",
       "...       ...    ...    ...     ...                ...  ...\n",
       "9230030  2020  56045  white    Male        55-64 years  556\n",
       "9230031  2020  56045  white    Male        65-74 years  461\n",
       "9230032  2020  56045  white    Male        75-84 years  178\n",
       "9230033  2020  56045  white    Male  85 years and over    8\n",
       "9230034  2020  56045  white    Male       Under 1 year   24\n",
       "\n",
       "[9230035 rows x 6 columns]"
      ]
     },
     "execution_count": 56,
     "metadata": {},
     "output_type": "execute_result"
    }
   ],
   "source": [
    "pop_year"
   ]
  },
  {
   "cell_type": "code",
   "execution_count": 57,
   "id": "416354cf-fc32-4cb5-9a46-7e90199b7a88",
   "metadata": {
    "tags": []
   },
   "outputs": [
    {
     "data": {
      "text/html": [
       "<div>\n",
       "<style scoped>\n",
       "    .dataframe tbody tr th:only-of-type {\n",
       "        vertical-align: middle;\n",
       "    }\n",
       "\n",
       "    .dataframe tbody tr th {\n",
       "        vertical-align: top;\n",
       "    }\n",
       "\n",
       "    .dataframe thead th {\n",
       "        text-align: right;\n",
       "    }\n",
       "</style>\n",
       "<table border=\"1\" class=\"dataframe\">\n",
       "  <thead>\n",
       "    <tr style=\"text-align: right;\">\n",
       "      <th></th>\n",
       "      <th>year</th>\n",
       "      <th>fips</th>\n",
       "      <th>age</th>\n",
       "      <th>pop</th>\n",
       "    </tr>\n",
       "  </thead>\n",
       "  <tbody>\n",
       "    <tr>\n",
       "      <th>0</th>\n",
       "      <td>1969</td>\n",
       "      <td>01001</td>\n",
       "      <td>1-4 years</td>\n",
       "      <td>1588</td>\n",
       "    </tr>\n",
       "    <tr>\n",
       "      <th>1</th>\n",
       "      <td>1969</td>\n",
       "      <td>01001</td>\n",
       "      <td>15-24 years</td>\n",
       "      <td>2844</td>\n",
       "    </tr>\n",
       "    <tr>\n",
       "      <th>2</th>\n",
       "      <td>1969</td>\n",
       "      <td>01001</td>\n",
       "      <td>25-34 years</td>\n",
       "      <td>3139</td>\n",
       "    </tr>\n",
       "    <tr>\n",
       "      <th>3</th>\n",
       "      <td>1969</td>\n",
       "      <td>01001</td>\n",
       "      <td>35-44 years</td>\n",
       "      <td>2818</td>\n",
       "    </tr>\n",
       "    <tr>\n",
       "      <th>4</th>\n",
       "      <td>1969</td>\n",
       "      <td>01001</td>\n",
       "      <td>45-54 years</td>\n",
       "      <td>2046</td>\n",
       "    </tr>\n",
       "    <tr>\n",
       "      <th>...</th>\n",
       "      <td>...</td>\n",
       "      <td>...</td>\n",
       "      <td>...</td>\n",
       "      <td>...</td>\n",
       "    </tr>\n",
       "    <tr>\n",
       "      <th>1785441</th>\n",
       "      <td>2020</td>\n",
       "      <td>56045</td>\n",
       "      <td>55-64 years</td>\n",
       "      <td>857</td>\n",
       "    </tr>\n",
       "    <tr>\n",
       "      <th>1785442</th>\n",
       "      <td>2020</td>\n",
       "      <td>56045</td>\n",
       "      <td>65-74 years</td>\n",
       "      <td>908</td>\n",
       "    </tr>\n",
       "    <tr>\n",
       "      <th>1785443</th>\n",
       "      <td>2020</td>\n",
       "      <td>56045</td>\n",
       "      <td>75-84 years</td>\n",
       "      <td>405</td>\n",
       "    </tr>\n",
       "    <tr>\n",
       "      <th>1785444</th>\n",
       "      <td>2020</td>\n",
       "      <td>56045</td>\n",
       "      <td>85 years and over</td>\n",
       "      <td>130</td>\n",
       "    </tr>\n",
       "    <tr>\n",
       "      <th>1785445</th>\n",
       "      <td>2020</td>\n",
       "      <td>56045</td>\n",
       "      <td>Under 1 year</td>\n",
       "      <td>53</td>\n",
       "    </tr>\n",
       "  </tbody>\n",
       "</table>\n",
       "<p>1785446 rows × 4 columns</p>\n",
       "</div>"
      ],
      "text/plain": [
       "         year   fips                age   pop\n",
       "0        1969  01001          1-4 years  1588\n",
       "1        1969  01001        15-24 years  2844\n",
       "2        1969  01001        25-34 years  3139\n",
       "3        1969  01001        35-44 years  2818\n",
       "4        1969  01001        45-54 years  2046\n",
       "...       ...    ...                ...   ...\n",
       "1785441  2020  56045        55-64 years   857\n",
       "1785442  2020  56045        65-74 years   908\n",
       "1785443  2020  56045        75-84 years   405\n",
       "1785444  2020  56045  85 years and over   130\n",
       "1785445  2020  56045       Under 1 year    53\n",
       "\n",
       "[1785446 rows x 4 columns]"
      ]
     },
     "execution_count": 57,
     "metadata": {},
     "output_type": "execute_result"
    }
   ],
   "source": [
    "pop_year = pop_year.drop(['race', 'sex'], axis = 1)\n",
    "pop_year = pop_year.groupby(['year', 'fips', 'age']).sum()\n",
    "pop_year = pop_year.reset_index()\n",
    "pop_year"
   ]
  },
  {
   "cell_type": "markdown",
   "id": "eafb39cb-de36-46ab-b1b6-f6b0166c2867",
   "metadata": {},
   "source": [
    "### Import lung cancer data"
   ]
  },
  {
   "cell_type": "code",
   "execution_count": 58,
   "id": "43e2ed96-4eff-4afc-99cc-402d5692c0d2",
   "metadata": {
    "tags": []
   },
   "outputs": [
    {
     "data": {
      "text/html": [
       "<div>\n",
       "<style scoped>\n",
       "    .dataframe tbody tr th:only-of-type {\n",
       "        vertical-align: middle;\n",
       "    }\n",
       "\n",
       "    .dataframe tbody tr th {\n",
       "        vertical-align: top;\n",
       "    }\n",
       "\n",
       "    .dataframe thead th {\n",
       "        text-align: right;\n",
       "    }\n",
       "</style>\n",
       "<table border=\"1\" class=\"dataframe\">\n",
       "  <thead>\n",
       "    <tr style=\"text-align: right;\">\n",
       "      <th></th>\n",
       "      <th>year</th>\n",
       "      <th>county_residence</th>\n",
       "      <th>state_residence</th>\n",
       "      <th>state_death</th>\n",
       "      <th>county_death</th>\n",
       "      <th>month</th>\n",
       "      <th>sex</th>\n",
       "      <th>race</th>\n",
       "      <th>age</th>\n",
       "      <th>age_range</th>\n",
       "      <th>death_cause</th>\n",
       "    </tr>\n",
       "  </thead>\n",
       "  <tbody>\n",
       "    <tr>\n",
       "      <th>0</th>\n",
       "      <td>1970</td>\n",
       "      <td>36999</td>\n",
       "      <td>36</td>\n",
       "      <td>55</td>\n",
       "      <td>55049</td>\n",
       "      <td>Sep</td>\n",
       "      <td>Female</td>\n",
       "      <td>White</td>\n",
       "      <td>85 years and over</td>\n",
       "      <td>65 and older</td>\n",
       "      <td>lung cancer</td>\n",
       "    </tr>\n",
       "    <tr>\n",
       "      <th>1</th>\n",
       "      <td>1970</td>\n",
       "      <td>55079</td>\n",
       "      <td>55</td>\n",
       "      <td>55</td>\n",
       "      <td>55079</td>\n",
       "      <td>Aug</td>\n",
       "      <td>Male</td>\n",
       "      <td>White</td>\n",
       "      <td>55-64 years</td>\n",
       "      <td>age 25-64</td>\n",
       "      <td>lung cancer</td>\n",
       "    </tr>\n",
       "    <tr>\n",
       "      <th>2</th>\n",
       "      <td>1970</td>\n",
       "      <td>06037</td>\n",
       "      <td>6</td>\n",
       "      <td>6</td>\n",
       "      <td>06037</td>\n",
       "      <td>Sep</td>\n",
       "      <td>Male</td>\n",
       "      <td>White</td>\n",
       "      <td>65-74 years</td>\n",
       "      <td>65 and older</td>\n",
       "      <td>lung cancer</td>\n",
       "    </tr>\n",
       "    <tr>\n",
       "      <th>3</th>\n",
       "      <td>1970</td>\n",
       "      <td>54011</td>\n",
       "      <td>54</td>\n",
       "      <td>54</td>\n",
       "      <td>54011</td>\n",
       "      <td>Sep</td>\n",
       "      <td>Female</td>\n",
       "      <td>White</td>\n",
       "      <td>55-64 years</td>\n",
       "      <td>age 25-64</td>\n",
       "      <td>lung cancer</td>\n",
       "    </tr>\n",
       "    <tr>\n",
       "      <th>4</th>\n",
       "      <td>1970</td>\n",
       "      <td>17143</td>\n",
       "      <td>17</td>\n",
       "      <td>17</td>\n",
       "      <td>17143</td>\n",
       "      <td>Aug</td>\n",
       "      <td>Male</td>\n",
       "      <td>White</td>\n",
       "      <td>55-64 years</td>\n",
       "      <td>age 25-64</td>\n",
       "      <td>lung cancer</td>\n",
       "    </tr>\n",
       "    <tr>\n",
       "      <th>...</th>\n",
       "      <td>...</td>\n",
       "      <td>...</td>\n",
       "      <td>...</td>\n",
       "      <td>...</td>\n",
       "      <td>...</td>\n",
       "      <td>...</td>\n",
       "      <td>...</td>\n",
       "      <td>...</td>\n",
       "      <td>...</td>\n",
       "      <td>...</td>\n",
       "      <td>...</td>\n",
       "    </tr>\n",
       "    <tr>\n",
       "      <th>65115</th>\n",
       "      <td>1970</td>\n",
       "      <td>09003</td>\n",
       "      <td>9</td>\n",
       "      <td>9</td>\n",
       "      <td>09003</td>\n",
       "      <td>Nov</td>\n",
       "      <td>Female</td>\n",
       "      <td>Black</td>\n",
       "      <td>55-64 years</td>\n",
       "      <td>age 25-64</td>\n",
       "      <td>lung cancer</td>\n",
       "    </tr>\n",
       "    <tr>\n",
       "      <th>65116</th>\n",
       "      <td>1970</td>\n",
       "      <td>39113</td>\n",
       "      <td>39</td>\n",
       "      <td>39</td>\n",
       "      <td>39113</td>\n",
       "      <td>Dec</td>\n",
       "      <td>Male</td>\n",
       "      <td>White</td>\n",
       "      <td>55-64 years</td>\n",
       "      <td>age 25-64</td>\n",
       "      <td>lung cancer</td>\n",
       "    </tr>\n",
       "    <tr>\n",
       "      <th>65117</th>\n",
       "      <td>1970</td>\n",
       "      <td>41051</td>\n",
       "      <td>41</td>\n",
       "      <td>41</td>\n",
       "      <td>41051</td>\n",
       "      <td>Feb</td>\n",
       "      <td>Male</td>\n",
       "      <td>Black</td>\n",
       "      <td>45-54 years</td>\n",
       "      <td>age 25-64</td>\n",
       "      <td>lung cancer</td>\n",
       "    </tr>\n",
       "    <tr>\n",
       "      <th>65118</th>\n",
       "      <td>1970</td>\n",
       "      <td>18163</td>\n",
       "      <td>18</td>\n",
       "      <td>18</td>\n",
       "      <td>18163</td>\n",
       "      <td>Jan</td>\n",
       "      <td>Male</td>\n",
       "      <td>White</td>\n",
       "      <td>65-74 years</td>\n",
       "      <td>65 and older</td>\n",
       "      <td>lung cancer</td>\n",
       "    </tr>\n",
       "    <tr>\n",
       "      <th>65119</th>\n",
       "      <td>1970</td>\n",
       "      <td>06085</td>\n",
       "      <td>6</td>\n",
       "      <td>6</td>\n",
       "      <td>06085</td>\n",
       "      <td>Feb</td>\n",
       "      <td>Male</td>\n",
       "      <td>Other</td>\n",
       "      <td>75-84 years</td>\n",
       "      <td>65 and older</td>\n",
       "      <td>lung cancer</td>\n",
       "    </tr>\n",
       "  </tbody>\n",
       "</table>\n",
       "<p>65120 rows × 11 columns</p>\n",
       "</div>"
      ],
      "text/plain": [
       "       year county_residence  state_residence  state_death county_death month   \n",
       "0      1970            36999               36           55        55049   Sep  \\\n",
       "1      1970            55079               55           55        55079   Aug   \n",
       "2      1970            06037                6            6        06037   Sep   \n",
       "3      1970            54011               54           54        54011   Sep   \n",
       "4      1970            17143               17           17        17143   Aug   \n",
       "...     ...              ...              ...          ...          ...   ...   \n",
       "65115  1970            09003                9            9        09003   Nov   \n",
       "65116  1970            39113               39           39        39113   Dec   \n",
       "65117  1970            41051               41           41        41051   Feb   \n",
       "65118  1970            18163               18           18        18163   Jan   \n",
       "65119  1970            06085                6            6        06085   Feb   \n",
       "\n",
       "          sex   race                age     age_range  death_cause  \n",
       "0      Female  White  85 years and over  65 and older  lung cancer  \n",
       "1        Male  White        55-64 years     age 25-64  lung cancer  \n",
       "2        Male  White        65-74 years  65 and older  lung cancer  \n",
       "3      Female  White        55-64 years     age 25-64  lung cancer  \n",
       "4        Male  White        55-64 years     age 25-64  lung cancer  \n",
       "...       ...    ...                ...           ...          ...  \n",
       "65115  Female  Black        55-64 years     age 25-64  lung cancer  \n",
       "65116    Male  White        55-64 years     age 25-64  lung cancer  \n",
       "65117    Male  Black        45-54 years     age 25-64  lung cancer  \n",
       "65118    Male  White        65-74 years  65 and older  lung cancer  \n",
       "65119    Male  Other        75-84 years  65 and older  lung cancer  \n",
       "\n",
       "[65120 rows x 11 columns]"
      ]
     },
     "execution_count": 58,
     "metadata": {},
     "output_type": "execute_result"
    }
   ],
   "source": [
    "cancer = pd.read_csv('Lung_Cancer_Mortality/lung_cancer_mortality/lung_cancer_mortality_' + str(year) + '.csv', dtype = {'year': int, 'county_residence': str, 'county_death': str})\n",
    "cancer = cancer.loc[:, ~cancer.columns.str.contains('^Unnamed')]\n",
    "cancer"
   ]
  },
  {
   "cell_type": "code",
   "execution_count": 59,
   "id": "9c794b1a-3b16-4654-a0a5-21c7d5c49162",
   "metadata": {
    "tags": []
   },
   "outputs": [
    {
     "data": {
      "text/html": [
       "<div>\n",
       "<style scoped>\n",
       "    .dataframe tbody tr th:only-of-type {\n",
       "        vertical-align: middle;\n",
       "    }\n",
       "\n",
       "    .dataframe tbody tr th {\n",
       "        vertical-align: top;\n",
       "    }\n",
       "\n",
       "    .dataframe thead th {\n",
       "        text-align: right;\n",
       "    }\n",
       "</style>\n",
       "<table border=\"1\" class=\"dataframe\">\n",
       "  <thead>\n",
       "    <tr style=\"text-align: right;\">\n",
       "      <th></th>\n",
       "      <th>year</th>\n",
       "      <th>county_death</th>\n",
       "      <th>month</th>\n",
       "      <th>sex</th>\n",
       "      <th>race</th>\n",
       "      <th>age</th>\n",
       "      <th>death_cause</th>\n",
       "    </tr>\n",
       "  </thead>\n",
       "  <tbody>\n",
       "    <tr>\n",
       "      <th>0</th>\n",
       "      <td>1970</td>\n",
       "      <td>01001</td>\n",
       "      <td>Dec</td>\n",
       "      <td>Male</td>\n",
       "      <td>White</td>\n",
       "      <td>65-74 years</td>\n",
       "      <td>1</td>\n",
       "    </tr>\n",
       "    <tr>\n",
       "      <th>1</th>\n",
       "      <td>1970</td>\n",
       "      <td>01001</td>\n",
       "      <td>Jun</td>\n",
       "      <td>Male</td>\n",
       "      <td>White</td>\n",
       "      <td>65-74 years</td>\n",
       "      <td>1</td>\n",
       "    </tr>\n",
       "    <tr>\n",
       "      <th>2</th>\n",
       "      <td>1970</td>\n",
       "      <td>01001</td>\n",
       "      <td>Sep</td>\n",
       "      <td>Male</td>\n",
       "      <td>White</td>\n",
       "      <td>55-64 years</td>\n",
       "      <td>1</td>\n",
       "    </tr>\n",
       "    <tr>\n",
       "      <th>3</th>\n",
       "      <td>1970</td>\n",
       "      <td>01003</td>\n",
       "      <td>Apr</td>\n",
       "      <td>Female</td>\n",
       "      <td>Black</td>\n",
       "      <td>15-24 years</td>\n",
       "      <td>1</td>\n",
       "    </tr>\n",
       "    <tr>\n",
       "      <th>4</th>\n",
       "      <td>1970</td>\n",
       "      <td>01003</td>\n",
       "      <td>Apr</td>\n",
       "      <td>Male</td>\n",
       "      <td>White</td>\n",
       "      <td>55-64 years</td>\n",
       "      <td>1</td>\n",
       "    </tr>\n",
       "  </tbody>\n",
       "</table>\n",
       "</div>"
      ],
      "text/plain": [
       "   year county_death month     sex   race          age  death_cause\n",
       "0  1970        01001   Dec    Male  White  65-74 years            1\n",
       "1  1970        01001   Jun    Male  White  65-74 years            1\n",
       "2  1970        01001   Sep    Male  White  55-64 years            1\n",
       "3  1970        01003   Apr  Female  Black  15-24 years            1\n",
       "4  1970        01003   Apr    Male  White  55-64 years            1"
      ]
     },
     "execution_count": 59,
     "metadata": {},
     "output_type": "execute_result"
    }
   ],
   "source": [
    "cancer_death = cancer.drop(['county_residence', 'state_residence', 'state_death', 'age_range'], axis = 1)\n",
    "cancer_death = cancer_death.groupby(['year', 'county_death', 'month', 'sex', 'race', 'age']).count()\n",
    "cancer_death = cancer_death.reset_index()\n",
    "cancer_death.head()"
   ]
  },
  {
   "cell_type": "code",
   "execution_count": 60,
   "id": "dbc5f72f-88ee-42a8-895a-6dfd1a934517",
   "metadata": {
    "tags": []
   },
   "outputs": [
    {
     "data": {
      "text/html": [
       "<div>\n",
       "<style scoped>\n",
       "    .dataframe tbody tr th:only-of-type {\n",
       "        vertical-align: middle;\n",
       "    }\n",
       "\n",
       "    .dataframe tbody tr th {\n",
       "        vertical-align: top;\n",
       "    }\n",
       "\n",
       "    .dataframe thead th {\n",
       "        text-align: right;\n",
       "    }\n",
       "</style>\n",
       "<table border=\"1\" class=\"dataframe\">\n",
       "  <thead>\n",
       "    <tr style=\"text-align: right;\">\n",
       "      <th></th>\n",
       "      <th>year</th>\n",
       "      <th>county_death</th>\n",
       "      <th>month</th>\n",
       "      <th>sex</th>\n",
       "      <th>race</th>\n",
       "      <th>age</th>\n",
       "      <th>deaths</th>\n",
       "    </tr>\n",
       "  </thead>\n",
       "  <tbody>\n",
       "    <tr>\n",
       "      <th>0</th>\n",
       "      <td>1970</td>\n",
       "      <td>01001</td>\n",
       "      <td>Dec</td>\n",
       "      <td>Male</td>\n",
       "      <td>White</td>\n",
       "      <td>65-74 years</td>\n",
       "      <td>1</td>\n",
       "    </tr>\n",
       "    <tr>\n",
       "      <th>1</th>\n",
       "      <td>1970</td>\n",
       "      <td>01001</td>\n",
       "      <td>Jun</td>\n",
       "      <td>Male</td>\n",
       "      <td>White</td>\n",
       "      <td>65-74 years</td>\n",
       "      <td>1</td>\n",
       "    </tr>\n",
       "    <tr>\n",
       "      <th>2</th>\n",
       "      <td>1970</td>\n",
       "      <td>01001</td>\n",
       "      <td>Sep</td>\n",
       "      <td>Male</td>\n",
       "      <td>White</td>\n",
       "      <td>55-64 years</td>\n",
       "      <td>1</td>\n",
       "    </tr>\n",
       "    <tr>\n",
       "      <th>3</th>\n",
       "      <td>1970</td>\n",
       "      <td>01003</td>\n",
       "      <td>Apr</td>\n",
       "      <td>Female</td>\n",
       "      <td>Black</td>\n",
       "      <td>15-24 years</td>\n",
       "      <td>1</td>\n",
       "    </tr>\n",
       "    <tr>\n",
       "      <th>4</th>\n",
       "      <td>1970</td>\n",
       "      <td>01003</td>\n",
       "      <td>Apr</td>\n",
       "      <td>Male</td>\n",
       "      <td>White</td>\n",
       "      <td>55-64 years</td>\n",
       "      <td>1</td>\n",
       "    </tr>\n",
       "    <tr>\n",
       "      <th>...</th>\n",
       "      <td>...</td>\n",
       "      <td>...</td>\n",
       "      <td>...</td>\n",
       "      <td>...</td>\n",
       "      <td>...</td>\n",
       "      <td>...</td>\n",
       "      <td>...</td>\n",
       "    </tr>\n",
       "    <tr>\n",
       "      <th>35534</th>\n",
       "      <td>1970</td>\n",
       "      <td>56033</td>\n",
       "      <td>Oct</td>\n",
       "      <td>Male</td>\n",
       "      <td>White</td>\n",
       "      <td>65-74 years</td>\n",
       "      <td>1</td>\n",
       "    </tr>\n",
       "    <tr>\n",
       "      <th>35535</th>\n",
       "      <td>1970</td>\n",
       "      <td>56037</td>\n",
       "      <td>Feb</td>\n",
       "      <td>Male</td>\n",
       "      <td>White</td>\n",
       "      <td>75-84 years</td>\n",
       "      <td>1</td>\n",
       "    </tr>\n",
       "    <tr>\n",
       "      <th>35536</th>\n",
       "      <td>1970</td>\n",
       "      <td>56037</td>\n",
       "      <td>Jun</td>\n",
       "      <td>Male</td>\n",
       "      <td>White</td>\n",
       "      <td>65-74 years</td>\n",
       "      <td>1</td>\n",
       "    </tr>\n",
       "    <tr>\n",
       "      <th>35537</th>\n",
       "      <td>1970</td>\n",
       "      <td>56037</td>\n",
       "      <td>Jun</td>\n",
       "      <td>Male</td>\n",
       "      <td>White</td>\n",
       "      <td>75-84 years</td>\n",
       "      <td>1</td>\n",
       "    </tr>\n",
       "    <tr>\n",
       "      <th>35538</th>\n",
       "      <td>1970</td>\n",
       "      <td>56045</td>\n",
       "      <td>Apr</td>\n",
       "      <td>Male</td>\n",
       "      <td>White</td>\n",
       "      <td>75-84 years</td>\n",
       "      <td>1</td>\n",
       "    </tr>\n",
       "  </tbody>\n",
       "</table>\n",
       "<p>35539 rows × 7 columns</p>\n",
       "</div>"
      ],
      "text/plain": [
       "       year county_death month     sex   race          age  deaths\n",
       "0      1970        01001   Dec    Male  White  65-74 years       1\n",
       "1      1970        01001   Jun    Male  White  65-74 years       1\n",
       "2      1970        01001   Sep    Male  White  55-64 years       1\n",
       "3      1970        01003   Apr  Female  Black  15-24 years       1\n",
       "4      1970        01003   Apr    Male  White  55-64 years       1\n",
       "...     ...          ...   ...     ...    ...          ...     ...\n",
       "35534  1970        56033   Oct    Male  White  65-74 years       1\n",
       "35535  1970        56037   Feb    Male  White  75-84 years       1\n",
       "35536  1970        56037   Jun    Male  White  65-74 years       1\n",
       "35537  1970        56037   Jun    Male  White  75-84 years       1\n",
       "35538  1970        56045   Apr    Male  White  75-84 years       1\n",
       "\n",
       "[35539 rows x 7 columns]"
      ]
     },
     "execution_count": 60,
     "metadata": {},
     "output_type": "execute_result"
    }
   ],
   "source": [
    "cancer_death = cancer_death.rename(columns = {'death_cause': 'deaths'})\n",
    "cancer_death"
   ]
  },
  {
   "cell_type": "code",
   "execution_count": 61,
   "id": "7746c0a0-8c6c-4caa-bf39-e8ca82db5e0a",
   "metadata": {
    "tags": []
   },
   "outputs": [
    {
     "data": {
      "text/html": [
       "<div>\n",
       "<style scoped>\n",
       "    .dataframe tbody tr th:only-of-type {\n",
       "        vertical-align: middle;\n",
       "    }\n",
       "\n",
       "    .dataframe tbody tr th {\n",
       "        vertical-align: top;\n",
       "    }\n",
       "\n",
       "    .dataframe thead th {\n",
       "        text-align: right;\n",
       "    }\n",
       "</style>\n",
       "<table border=\"1\" class=\"dataframe\">\n",
       "  <thead>\n",
       "    <tr style=\"text-align: right;\">\n",
       "      <th></th>\n",
       "      <th>year</th>\n",
       "      <th>county_death</th>\n",
       "      <th>month</th>\n",
       "      <th>age</th>\n",
       "      <th>deaths</th>\n",
       "    </tr>\n",
       "  </thead>\n",
       "  <tbody>\n",
       "    <tr>\n",
       "      <th>0</th>\n",
       "      <td>1970</td>\n",
       "      <td>01001</td>\n",
       "      <td>Dec</td>\n",
       "      <td>65-74 years</td>\n",
       "      <td>1</td>\n",
       "    </tr>\n",
       "    <tr>\n",
       "      <th>1</th>\n",
       "      <td>1970</td>\n",
       "      <td>01001</td>\n",
       "      <td>Jun</td>\n",
       "      <td>65-74 years</td>\n",
       "      <td>1</td>\n",
       "    </tr>\n",
       "    <tr>\n",
       "      <th>2</th>\n",
       "      <td>1970</td>\n",
       "      <td>01001</td>\n",
       "      <td>Sep</td>\n",
       "      <td>55-64 years</td>\n",
       "      <td>1</td>\n",
       "    </tr>\n",
       "    <tr>\n",
       "      <th>3</th>\n",
       "      <td>1970</td>\n",
       "      <td>01003</td>\n",
       "      <td>Apr</td>\n",
       "      <td>15-24 years</td>\n",
       "      <td>1</td>\n",
       "    </tr>\n",
       "    <tr>\n",
       "      <th>4</th>\n",
       "      <td>1970</td>\n",
       "      <td>01003</td>\n",
       "      <td>Apr</td>\n",
       "      <td>55-64 years</td>\n",
       "      <td>1</td>\n",
       "    </tr>\n",
       "    <tr>\n",
       "      <th>...</th>\n",
       "      <td>...</td>\n",
       "      <td>...</td>\n",
       "      <td>...</td>\n",
       "      <td>...</td>\n",
       "      <td>...</td>\n",
       "    </tr>\n",
       "    <tr>\n",
       "      <th>27889</th>\n",
       "      <td>1970</td>\n",
       "      <td>56033</td>\n",
       "      <td>Oct</td>\n",
       "      <td>65-74 years</td>\n",
       "      <td>1</td>\n",
       "    </tr>\n",
       "    <tr>\n",
       "      <th>27890</th>\n",
       "      <td>1970</td>\n",
       "      <td>56037</td>\n",
       "      <td>Feb</td>\n",
       "      <td>75-84 years</td>\n",
       "      <td>1</td>\n",
       "    </tr>\n",
       "    <tr>\n",
       "      <th>27891</th>\n",
       "      <td>1970</td>\n",
       "      <td>56037</td>\n",
       "      <td>Jun</td>\n",
       "      <td>65-74 years</td>\n",
       "      <td>1</td>\n",
       "    </tr>\n",
       "    <tr>\n",
       "      <th>27892</th>\n",
       "      <td>1970</td>\n",
       "      <td>56037</td>\n",
       "      <td>Jun</td>\n",
       "      <td>75-84 years</td>\n",
       "      <td>1</td>\n",
       "    </tr>\n",
       "    <tr>\n",
       "      <th>27893</th>\n",
       "      <td>1970</td>\n",
       "      <td>56045</td>\n",
       "      <td>Apr</td>\n",
       "      <td>75-84 years</td>\n",
       "      <td>1</td>\n",
       "    </tr>\n",
       "  </tbody>\n",
       "</table>\n",
       "<p>27894 rows × 5 columns</p>\n",
       "</div>"
      ],
      "text/plain": [
       "       year county_death month          age  deaths\n",
       "0      1970        01001   Dec  65-74 years       1\n",
       "1      1970        01001   Jun  65-74 years       1\n",
       "2      1970        01001   Sep  55-64 years       1\n",
       "3      1970        01003   Apr  15-24 years       1\n",
       "4      1970        01003   Apr  55-64 years       1\n",
       "...     ...          ...   ...          ...     ...\n",
       "27889  1970        56033   Oct  65-74 years       1\n",
       "27890  1970        56037   Feb  75-84 years       1\n",
       "27891  1970        56037   Jun  65-74 years       1\n",
       "27892  1970        56037   Jun  75-84 years       1\n",
       "27893  1970        56045   Apr  75-84 years       1\n",
       "\n",
       "[27894 rows x 5 columns]"
      ]
     },
     "execution_count": 61,
     "metadata": {},
     "output_type": "execute_result"
    }
   ],
   "source": [
    "cancer_death = cancer_death.drop(['sex', 'race'], axis = 1)\n",
    "cancer_death = cancer_death.groupby(['year', 'county_death', 'month', 'age']).sum()\n",
    "cancer_death = cancer_death.reset_index()\n",
    "cancer_death"
   ]
  },
  {
   "cell_type": "code",
   "execution_count": 62,
   "id": "bd9d55e0-27e2-4998-b1a9-71b0f703b24b",
   "metadata": {
    "tags": []
   },
   "outputs": [
    {
     "data": {
      "text/plain": [
       "array([ 1,  2,  3,  4,  5,  6,  9,  7, 10, 12,  8, 15, 13, 16, 11, 36, 75,\n",
       "       50, 26, 14, 31, 55, 49, 43, 40, 35, 20, 53, 57, 44, 60, 65, 39, 38,\n",
       "       74, 22, 34, 68, 18, 29, 58, 45, 48, 72, 33, 51, 30, 17, 21, 19, 23,\n",
       "       52, 27, 46, 62, 42, 41, 28, 77, 59, 54, 47, 25, 32, 37, 86, 97, 87,\n",
       "       79, 83, 71, 82, 69, 85, 66, 92, 89, 81, 63, 24])"
      ]
     },
     "execution_count": 62,
     "metadata": {},
     "output_type": "execute_result"
    }
   ],
   "source": [
    "cancer_death['deaths'].unique()"
   ]
  },
  {
   "cell_type": "code",
   "execution_count": 63,
   "id": "a90a89af-09d0-45cd-8e19-341e826f1c01",
   "metadata": {
    "tags": []
   },
   "outputs": [
    {
     "data": {
      "text/html": [
       "<div>\n",
       "<style scoped>\n",
       "    .dataframe tbody tr th:only-of-type {\n",
       "        vertical-align: middle;\n",
       "    }\n",
       "\n",
       "    .dataframe tbody tr th {\n",
       "        vertical-align: top;\n",
       "    }\n",
       "\n",
       "    .dataframe thead th {\n",
       "        text-align: right;\n",
       "    }\n",
       "</style>\n",
       "<table border=\"1\" class=\"dataframe\">\n",
       "  <thead>\n",
       "    <tr style=\"text-align: right;\">\n",
       "      <th></th>\n",
       "      <th>year</th>\n",
       "      <th>county_death</th>\n",
       "      <th>age</th>\n",
       "      <th>deaths</th>\n",
       "    </tr>\n",
       "  </thead>\n",
       "  <tbody>\n",
       "    <tr>\n",
       "      <th>0</th>\n",
       "      <td>1970</td>\n",
       "      <td>01001</td>\n",
       "      <td>55-64 years</td>\n",
       "      <td>1</td>\n",
       "    </tr>\n",
       "    <tr>\n",
       "      <th>1</th>\n",
       "      <td>1970</td>\n",
       "      <td>01001</td>\n",
       "      <td>65-74 years</td>\n",
       "      <td>2</td>\n",
       "    </tr>\n",
       "    <tr>\n",
       "      <th>2</th>\n",
       "      <td>1970</td>\n",
       "      <td>01003</td>\n",
       "      <td>15-24 years</td>\n",
       "      <td>1</td>\n",
       "    </tr>\n",
       "    <tr>\n",
       "      <th>3</th>\n",
       "      <td>1970</td>\n",
       "      <td>01003</td>\n",
       "      <td>35-44 years</td>\n",
       "      <td>1</td>\n",
       "    </tr>\n",
       "    <tr>\n",
       "      <th>4</th>\n",
       "      <td>1970</td>\n",
       "      <td>01003</td>\n",
       "      <td>45-54 years</td>\n",
       "      <td>2</td>\n",
       "    </tr>\n",
       "    <tr>\n",
       "      <th>...</th>\n",
       "      <td>...</td>\n",
       "      <td>...</td>\n",
       "      <td>...</td>\n",
       "      <td>...</td>\n",
       "    </tr>\n",
       "    <tr>\n",
       "      <th>8609</th>\n",
       "      <td>1970</td>\n",
       "      <td>56033</td>\n",
       "      <td>65-74 years</td>\n",
       "      <td>3</td>\n",
       "    </tr>\n",
       "    <tr>\n",
       "      <th>8610</th>\n",
       "      <td>1970</td>\n",
       "      <td>56033</td>\n",
       "      <td>75-84 years</td>\n",
       "      <td>4</td>\n",
       "    </tr>\n",
       "    <tr>\n",
       "      <th>8611</th>\n",
       "      <td>1970</td>\n",
       "      <td>56037</td>\n",
       "      <td>65-74 years</td>\n",
       "      <td>1</td>\n",
       "    </tr>\n",
       "    <tr>\n",
       "      <th>8612</th>\n",
       "      <td>1970</td>\n",
       "      <td>56037</td>\n",
       "      <td>75-84 years</td>\n",
       "      <td>2</td>\n",
       "    </tr>\n",
       "    <tr>\n",
       "      <th>8613</th>\n",
       "      <td>1970</td>\n",
       "      <td>56045</td>\n",
       "      <td>75-84 years</td>\n",
       "      <td>1</td>\n",
       "    </tr>\n",
       "  </tbody>\n",
       "</table>\n",
       "<p>8614 rows × 4 columns</p>\n",
       "</div>"
      ],
      "text/plain": [
       "      year county_death          age  deaths\n",
       "0     1970        01001  55-64 years       1\n",
       "1     1970        01001  65-74 years       2\n",
       "2     1970        01003  15-24 years       1\n",
       "3     1970        01003  35-44 years       1\n",
       "4     1970        01003  45-54 years       2\n",
       "...    ...          ...          ...     ...\n",
       "8609  1970        56033  65-74 years       3\n",
       "8610  1970        56033  75-84 years       4\n",
       "8611  1970        56037  65-74 years       1\n",
       "8612  1970        56037  75-84 years       2\n",
       "8613  1970        56045  75-84 years       1\n",
       "\n",
       "[8614 rows x 4 columns]"
      ]
     },
     "execution_count": 63,
     "metadata": {},
     "output_type": "execute_result"
    }
   ],
   "source": [
    "cancer_death = cancer_death.drop(['month'], axis = 1)\n",
    "cancer_death = cancer_death.groupby(['year', 'county_death','age']).sum()\n",
    "cancer_death = cancer_death.reset_index()\n",
    "cancer_death"
   ]
  },
  {
   "cell_type": "markdown",
   "id": "57986b37-fd11-4b66-a358-6945901fad42",
   "metadata": {},
   "source": [
    "### Calculate yearly county level age adjusted rate "
   ]
  },
  {
   "cell_type": "code",
   "execution_count": 65,
   "id": "c02d1a29-a187-4257-82e5-801ea1963fbb",
   "metadata": {
    "tags": []
   },
   "outputs": [
    {
     "data": {
      "text/html": [
       "<div>\n",
       "<style scoped>\n",
       "    .dataframe tbody tr th:only-of-type {\n",
       "        vertical-align: middle;\n",
       "    }\n",
       "\n",
       "    .dataframe tbody tr th {\n",
       "        vertical-align: top;\n",
       "    }\n",
       "\n",
       "    .dataframe thead th {\n",
       "        text-align: right;\n",
       "    }\n",
       "</style>\n",
       "<table border=\"1\" class=\"dataframe\">\n",
       "  <thead>\n",
       "    <tr style=\"text-align: right;\">\n",
       "      <th></th>\n",
       "      <th>Age</th>\n",
       "      <th>Number</th>\n",
       "      <th>Weight</th>\n",
       "    </tr>\n",
       "  </thead>\n",
       "  <tbody>\n",
       "    <tr>\n",
       "      <th>1</th>\n",
       "      <td>Under 1 year</td>\n",
       "      <td>13818</td>\n",
       "      <td>0.013818</td>\n",
       "    </tr>\n",
       "    <tr>\n",
       "      <th>2</th>\n",
       "      <td>1-4 years</td>\n",
       "      <td>55317</td>\n",
       "      <td>0.055317</td>\n",
       "    </tr>\n",
       "    <tr>\n",
       "      <th>3</th>\n",
       "      <td>5-14 years</td>\n",
       "      <td>145565</td>\n",
       "      <td>0.145565</td>\n",
       "    </tr>\n",
       "    <tr>\n",
       "      <th>4</th>\n",
       "      <td>15-24 years</td>\n",
       "      <td>138646</td>\n",
       "      <td>0.138646</td>\n",
       "    </tr>\n",
       "    <tr>\n",
       "      <th>5</th>\n",
       "      <td>25-34 years</td>\n",
       "      <td>135573</td>\n",
       "      <td>0.135573</td>\n",
       "    </tr>\n",
       "    <tr>\n",
       "      <th>6</th>\n",
       "      <td>35-44 years</td>\n",
       "      <td>162613</td>\n",
       "      <td>0.162613</td>\n",
       "    </tr>\n",
       "    <tr>\n",
       "      <th>7</th>\n",
       "      <td>45-54 years</td>\n",
       "      <td>134834</td>\n",
       "      <td>0.134834</td>\n",
       "    </tr>\n",
       "    <tr>\n",
       "      <th>8</th>\n",
       "      <td>55-64 years</td>\n",
       "      <td>87247</td>\n",
       "      <td>0.087247</td>\n",
       "    </tr>\n",
       "    <tr>\n",
       "      <th>9</th>\n",
       "      <td>65-74 years</td>\n",
       "      <td>66037</td>\n",
       "      <td>0.066037</td>\n",
       "    </tr>\n",
       "    <tr>\n",
       "      <th>10</th>\n",
       "      <td>75-84 years</td>\n",
       "      <td>44842</td>\n",
       "      <td>0.044842</td>\n",
       "    </tr>\n",
       "    <tr>\n",
       "      <th>11</th>\n",
       "      <td>85 years and over</td>\n",
       "      <td>15508</td>\n",
       "      <td>0.015508</td>\n",
       "    </tr>\n",
       "  </tbody>\n",
       "</table>\n",
       "</div>"
      ],
      "text/plain": [
       "                  Age  Number    Weight\n",
       "1        Under 1 year   13818  0.013818\n",
       "2           1-4 years   55317  0.055317\n",
       "3          5-14 years  145565  0.145565\n",
       "4         15-24 years  138646  0.138646\n",
       "5         25-34 years  135573  0.135573\n",
       "6         35-44 years  162613  0.162613\n",
       "7         45-54 years  134834  0.134834\n",
       "8         55-64 years   87247  0.087247\n",
       "9         65-74 years   66037  0.066037\n",
       "10        75-84 years   44842  0.044842\n",
       "11  85 years and over   15508  0.015508"
      ]
     },
     "execution_count": 65,
     "metadata": {},
     "output_type": "execute_result"
    }
   ],
   "source": [
    "standard_pop = standard_pop.rename(columns = {'Number  ': 'Number', '   Weight': 'Weight'})\n",
    "standard_pop"
   ]
  },
  {
   "cell_type": "code",
   "execution_count": 66,
   "id": "be68eef2-8005-4765-a95c-272b1cc4a486",
   "metadata": {
    "tags": []
   },
   "outputs": [
    {
     "data": {
      "text/html": [
       "<div>\n",
       "<style scoped>\n",
       "    .dataframe tbody tr th:only-of-type {\n",
       "        vertical-align: middle;\n",
       "    }\n",
       "\n",
       "    .dataframe tbody tr th {\n",
       "        vertical-align: top;\n",
       "    }\n",
       "\n",
       "    .dataframe thead th {\n",
       "        text-align: right;\n",
       "    }\n",
       "</style>\n",
       "<table border=\"1\" class=\"dataframe\">\n",
       "  <thead>\n",
       "    <tr style=\"text-align: right;\">\n",
       "      <th></th>\n",
       "      <th>year</th>\n",
       "      <th>fips</th>\n",
       "      <th>age</th>\n",
       "      <th>deaths</th>\n",
       "    </tr>\n",
       "  </thead>\n",
       "  <tbody>\n",
       "    <tr>\n",
       "      <th>0</th>\n",
       "      <td>1970</td>\n",
       "      <td>01001</td>\n",
       "      <td>55-64 years</td>\n",
       "      <td>1</td>\n",
       "    </tr>\n",
       "    <tr>\n",
       "      <th>1</th>\n",
       "      <td>1970</td>\n",
       "      <td>01001</td>\n",
       "      <td>65-74 years</td>\n",
       "      <td>2</td>\n",
       "    </tr>\n",
       "    <tr>\n",
       "      <th>2</th>\n",
       "      <td>1970</td>\n",
       "      <td>01003</td>\n",
       "      <td>15-24 years</td>\n",
       "      <td>1</td>\n",
       "    </tr>\n",
       "    <tr>\n",
       "      <th>3</th>\n",
       "      <td>1970</td>\n",
       "      <td>01003</td>\n",
       "      <td>35-44 years</td>\n",
       "      <td>1</td>\n",
       "    </tr>\n",
       "    <tr>\n",
       "      <th>4</th>\n",
       "      <td>1970</td>\n",
       "      <td>01003</td>\n",
       "      <td>45-54 years</td>\n",
       "      <td>2</td>\n",
       "    </tr>\n",
       "    <tr>\n",
       "      <th>...</th>\n",
       "      <td>...</td>\n",
       "      <td>...</td>\n",
       "      <td>...</td>\n",
       "      <td>...</td>\n",
       "    </tr>\n",
       "    <tr>\n",
       "      <th>8609</th>\n",
       "      <td>1970</td>\n",
       "      <td>56033</td>\n",
       "      <td>65-74 years</td>\n",
       "      <td>3</td>\n",
       "    </tr>\n",
       "    <tr>\n",
       "      <th>8610</th>\n",
       "      <td>1970</td>\n",
       "      <td>56033</td>\n",
       "      <td>75-84 years</td>\n",
       "      <td>4</td>\n",
       "    </tr>\n",
       "    <tr>\n",
       "      <th>8611</th>\n",
       "      <td>1970</td>\n",
       "      <td>56037</td>\n",
       "      <td>65-74 years</td>\n",
       "      <td>1</td>\n",
       "    </tr>\n",
       "    <tr>\n",
       "      <th>8612</th>\n",
       "      <td>1970</td>\n",
       "      <td>56037</td>\n",
       "      <td>75-84 years</td>\n",
       "      <td>2</td>\n",
       "    </tr>\n",
       "    <tr>\n",
       "      <th>8613</th>\n",
       "      <td>1970</td>\n",
       "      <td>56045</td>\n",
       "      <td>75-84 years</td>\n",
       "      <td>1</td>\n",
       "    </tr>\n",
       "  </tbody>\n",
       "</table>\n",
       "<p>8614 rows × 4 columns</p>\n",
       "</div>"
      ],
      "text/plain": [
       "      year   fips          age  deaths\n",
       "0     1970  01001  55-64 years       1\n",
       "1     1970  01001  65-74 years       2\n",
       "2     1970  01003  15-24 years       1\n",
       "3     1970  01003  35-44 years       1\n",
       "4     1970  01003  45-54 years       2\n",
       "...    ...    ...          ...     ...\n",
       "8609  1970  56033  65-74 years       3\n",
       "8610  1970  56033  75-84 years       4\n",
       "8611  1970  56037  65-74 years       1\n",
       "8612  1970  56037  75-84 years       2\n",
       "8613  1970  56045  75-84 years       1\n",
       "\n",
       "[8614 rows x 4 columns]"
      ]
     },
     "execution_count": 66,
     "metadata": {},
     "output_type": "execute_result"
    }
   ],
   "source": [
    "cancer_death = cancer_death.rename(columns = {'county_death': 'fips'})\n",
    "cancer_death"
   ]
  },
  {
   "cell_type": "code",
   "execution_count": 67,
   "id": "93b521c7-b3c7-4455-87f1-e7cbe072ce79",
   "metadata": {
    "tags": []
   },
   "outputs": [
    {
     "data": {
      "text/plain": [
       "2621"
      ]
     },
     "execution_count": 67,
     "metadata": {},
     "output_type": "execute_result"
    }
   ],
   "source": [
    "len(cancer_death['fips'].unique())"
   ]
  },
  {
   "cell_type": "code",
   "execution_count": 68,
   "id": "ea313184-927a-4d9d-884d-e0de255ad24b",
   "metadata": {
    "tags": []
   },
   "outputs": [
    {
     "data": {
      "text/plain": [
       "['01001',\n",
       " '01003',\n",
       " '01005',\n",
       " '01007',\n",
       " '01009',\n",
       " '01011',\n",
       " '01013',\n",
       " '01015',\n",
       " '01017',\n",
       " '01019']"
      ]
     },
     "execution_count": 68,
     "metadata": {},
     "output_type": "execute_result"
    }
   ],
   "source": [
    "fips_list = list(cancer_death['fips'].unique())\n",
    "fips_list[:10]"
   ]
  },
  {
   "cell_type": "code",
   "execution_count": 69,
   "id": "c3c64145-7bac-4083-bfdb-7689d0c1b8ec",
   "metadata": {
    "tags": []
   },
   "outputs": [
    {
     "data": {
      "text/html": [
       "<div>\n",
       "<style scoped>\n",
       "    .dataframe tbody tr th:only-of-type {\n",
       "        vertical-align: middle;\n",
       "    }\n",
       "\n",
       "    .dataframe tbody tr th {\n",
       "        vertical-align: top;\n",
       "    }\n",
       "\n",
       "    .dataframe thead th {\n",
       "        text-align: right;\n",
       "    }\n",
       "</style>\n",
       "<table border=\"1\" class=\"dataframe\">\n",
       "  <thead>\n",
       "    <tr style=\"text-align: right;\">\n",
       "      <th></th>\n",
       "      <th>year</th>\n",
       "      <th>fips</th>\n",
       "      <th>age</th>\n",
       "      <th>pop</th>\n",
       "    </tr>\n",
       "  </thead>\n",
       "  <tbody>\n",
       "    <tr>\n",
       "      <th>33976</th>\n",
       "      <td>1970</td>\n",
       "      <td>01001</td>\n",
       "      <td>1-4 years</td>\n",
       "      <td>1385</td>\n",
       "    </tr>\n",
       "    <tr>\n",
       "      <th>33977</th>\n",
       "      <td>1970</td>\n",
       "      <td>01001</td>\n",
       "      <td>15-24 years</td>\n",
       "      <td>3874</td>\n",
       "    </tr>\n",
       "    <tr>\n",
       "      <th>33978</th>\n",
       "      <td>1970</td>\n",
       "      <td>01001</td>\n",
       "      <td>25-34 years</td>\n",
       "      <td>3200</td>\n",
       "    </tr>\n",
       "    <tr>\n",
       "      <th>33979</th>\n",
       "      <td>1970</td>\n",
       "      <td>01001</td>\n",
       "      <td>35-44 years</td>\n",
       "      <td>2911</td>\n",
       "    </tr>\n",
       "    <tr>\n",
       "      <th>33980</th>\n",
       "      <td>1970</td>\n",
       "      <td>01001</td>\n",
       "      <td>45-54 years</td>\n",
       "      <td>1794</td>\n",
       "    </tr>\n",
       "    <tr>\n",
       "      <th>...</th>\n",
       "      <td>...</td>\n",
       "      <td>...</td>\n",
       "      <td>...</td>\n",
       "      <td>...</td>\n",
       "    </tr>\n",
       "    <tr>\n",
       "      <th>67947</th>\n",
       "      <td>1970</td>\n",
       "      <td>56045</td>\n",
       "      <td>55-64 years</td>\n",
       "      <td>533</td>\n",
       "    </tr>\n",
       "    <tr>\n",
       "      <th>67948</th>\n",
       "      <td>1970</td>\n",
       "      <td>56045</td>\n",
       "      <td>65-74 years</td>\n",
       "      <td>364</td>\n",
       "    </tr>\n",
       "    <tr>\n",
       "      <th>67949</th>\n",
       "      <td>1970</td>\n",
       "      <td>56045</td>\n",
       "      <td>75-84 years</td>\n",
       "      <td>183</td>\n",
       "    </tr>\n",
       "    <tr>\n",
       "      <th>67950</th>\n",
       "      <td>1970</td>\n",
       "      <td>56045</td>\n",
       "      <td>85 years and over</td>\n",
       "      <td>43</td>\n",
       "    </tr>\n",
       "    <tr>\n",
       "      <th>67951</th>\n",
       "      <td>1970</td>\n",
       "      <td>56045</td>\n",
       "      <td>Under 1 year</td>\n",
       "      <td>109</td>\n",
       "    </tr>\n",
       "  </tbody>\n",
       "</table>\n",
       "<p>33976 rows × 4 columns</p>\n",
       "</div>"
      ],
      "text/plain": [
       "       year   fips                age   pop\n",
       "33976  1970  01001          1-4 years  1385\n",
       "33977  1970  01001        15-24 years  3874\n",
       "33978  1970  01001        25-34 years  3200\n",
       "33979  1970  01001        35-44 years  2911\n",
       "33980  1970  01001        45-54 years  1794\n",
       "...     ...    ...                ...   ...\n",
       "67947  1970  56045        55-64 years   533\n",
       "67948  1970  56045        65-74 years   364\n",
       "67949  1970  56045        75-84 years   183\n",
       "67950  1970  56045  85 years and over    43\n",
       "67951  1970  56045       Under 1 year   109\n",
       "\n",
       "[33976 rows x 4 columns]"
      ]
     },
     "execution_count": 69,
     "metadata": {},
     "output_type": "execute_result"
    }
   ],
   "source": [
    "pop_year_current = pop_year[pop_year['year'] == year]\n",
    "pop_year_current"
   ]
  },
  {
   "cell_type": "code",
   "execution_count": 70,
   "id": "e8be561f-8e67-4ad9-a4ea-e1afde375eac",
   "metadata": {
    "tags": []
   },
   "outputs": [],
   "source": [
    "item = '01001'\n",
    "death_fips = cancer_death[cancer_death['fips'] == item]\n",
    "pop_fips = pop_year_current[pop_year_current['fips'] == item]"
   ]
  },
  {
   "cell_type": "code",
   "execution_count": 71,
   "id": "65f771bb-64fe-4d3a-bb72-278fdd29cd50",
   "metadata": {
    "tags": []
   },
   "outputs": [
    {
     "data": {
      "text/html": [
       "<div>\n",
       "<style scoped>\n",
       "    .dataframe tbody tr th:only-of-type {\n",
       "        vertical-align: middle;\n",
       "    }\n",
       "\n",
       "    .dataframe tbody tr th {\n",
       "        vertical-align: top;\n",
       "    }\n",
       "\n",
       "    .dataframe thead th {\n",
       "        text-align: right;\n",
       "    }\n",
       "</style>\n",
       "<table border=\"1\" class=\"dataframe\">\n",
       "  <thead>\n",
       "    <tr style=\"text-align: right;\">\n",
       "      <th></th>\n",
       "      <th>year</th>\n",
       "      <th>fips</th>\n",
       "      <th>age</th>\n",
       "      <th>deaths</th>\n",
       "    </tr>\n",
       "  </thead>\n",
       "  <tbody>\n",
       "    <tr>\n",
       "      <th>0</th>\n",
       "      <td>1970</td>\n",
       "      <td>01001</td>\n",
       "      <td>55-64 years</td>\n",
       "      <td>1</td>\n",
       "    </tr>\n",
       "    <tr>\n",
       "      <th>1</th>\n",
       "      <td>1970</td>\n",
       "      <td>01001</td>\n",
       "      <td>65-74 years</td>\n",
       "      <td>2</td>\n",
       "    </tr>\n",
       "  </tbody>\n",
       "</table>\n",
       "</div>"
      ],
      "text/plain": [
       "   year   fips          age  deaths\n",
       "0  1970  01001  55-64 years       1\n",
       "1  1970  01001  65-74 years       2"
      ]
     },
     "execution_count": 71,
     "metadata": {},
     "output_type": "execute_result"
    }
   ],
   "source": [
    "death_fips"
   ]
  },
  {
   "cell_type": "code",
   "execution_count": 72,
   "id": "d378184d-3386-4f1b-b28e-42d410a38960",
   "metadata": {
    "tags": []
   },
   "outputs": [
    {
     "data": {
      "text/html": [
       "<div>\n",
       "<style scoped>\n",
       "    .dataframe tbody tr th:only-of-type {\n",
       "        vertical-align: middle;\n",
       "    }\n",
       "\n",
       "    .dataframe tbody tr th {\n",
       "        vertical-align: top;\n",
       "    }\n",
       "\n",
       "    .dataframe thead th {\n",
       "        text-align: right;\n",
       "    }\n",
       "</style>\n",
       "<table border=\"1\" class=\"dataframe\">\n",
       "  <thead>\n",
       "    <tr style=\"text-align: right;\">\n",
       "      <th></th>\n",
       "      <th>year</th>\n",
       "      <th>fips</th>\n",
       "      <th>age</th>\n",
       "      <th>pop</th>\n",
       "    </tr>\n",
       "  </thead>\n",
       "  <tbody>\n",
       "    <tr>\n",
       "      <th>33976</th>\n",
       "      <td>1970</td>\n",
       "      <td>01001</td>\n",
       "      <td>1-4 years</td>\n",
       "      <td>1385</td>\n",
       "    </tr>\n",
       "    <tr>\n",
       "      <th>33977</th>\n",
       "      <td>1970</td>\n",
       "      <td>01001</td>\n",
       "      <td>15-24 years</td>\n",
       "      <td>3874</td>\n",
       "    </tr>\n",
       "    <tr>\n",
       "      <th>33978</th>\n",
       "      <td>1970</td>\n",
       "      <td>01001</td>\n",
       "      <td>25-34 years</td>\n",
       "      <td>3200</td>\n",
       "    </tr>\n",
       "    <tr>\n",
       "      <th>33979</th>\n",
       "      <td>1970</td>\n",
       "      <td>01001</td>\n",
       "      <td>35-44 years</td>\n",
       "      <td>2911</td>\n",
       "    </tr>\n",
       "    <tr>\n",
       "      <th>33980</th>\n",
       "      <td>1970</td>\n",
       "      <td>01001</td>\n",
       "      <td>45-54 years</td>\n",
       "      <td>1794</td>\n",
       "    </tr>\n",
       "    <tr>\n",
       "      <th>33981</th>\n",
       "      <td>1970</td>\n",
       "      <td>01001</td>\n",
       "      <td>5-14 years</td>\n",
       "      <td>6192</td>\n",
       "    </tr>\n",
       "    <tr>\n",
       "      <th>33982</th>\n",
       "      <td>1970</td>\n",
       "      <td>01001</td>\n",
       "      <td>55-64 years</td>\n",
       "      <td>1925</td>\n",
       "    </tr>\n",
       "    <tr>\n",
       "      <th>33983</th>\n",
       "      <td>1970</td>\n",
       "      <td>01001</td>\n",
       "      <td>65-74 years</td>\n",
       "      <td>1249</td>\n",
       "    </tr>\n",
       "    <tr>\n",
       "      <th>33984</th>\n",
       "      <td>1970</td>\n",
       "      <td>01001</td>\n",
       "      <td>75-84 years</td>\n",
       "      <td>547</td>\n",
       "    </tr>\n",
       "    <tr>\n",
       "      <th>33985</th>\n",
       "      <td>1970</td>\n",
       "      <td>01001</td>\n",
       "      <td>85 years and over</td>\n",
       "      <td>121</td>\n",
       "    </tr>\n",
       "    <tr>\n",
       "      <th>33986</th>\n",
       "      <td>1970</td>\n",
       "      <td>01001</td>\n",
       "      <td>Under 1 year</td>\n",
       "      <td>482</td>\n",
       "    </tr>\n",
       "  </tbody>\n",
       "</table>\n",
       "</div>"
      ],
      "text/plain": [
       "       year   fips                age   pop\n",
       "33976  1970  01001          1-4 years  1385\n",
       "33977  1970  01001        15-24 years  3874\n",
       "33978  1970  01001        25-34 years  3200\n",
       "33979  1970  01001        35-44 years  2911\n",
       "33980  1970  01001        45-54 years  1794\n",
       "33981  1970  01001         5-14 years  6192\n",
       "33982  1970  01001        55-64 years  1925\n",
       "33983  1970  01001        65-74 years  1249\n",
       "33984  1970  01001        75-84 years   547\n",
       "33985  1970  01001  85 years and over   121\n",
       "33986  1970  01001       Under 1 year   482"
      ]
     },
     "execution_count": 72,
     "metadata": {},
     "output_type": "execute_result"
    }
   ],
   "source": [
    "pop_fips"
   ]
  },
  {
   "cell_type": "code",
   "execution_count": 73,
   "id": "2129f2a0-5a0f-4676-bbf1-ccaf58ff8ff3",
   "metadata": {
    "tags": []
   },
   "outputs": [
    {
     "data": {
      "text/html": [
       "<div>\n",
       "<style scoped>\n",
       "    .dataframe tbody tr th:only-of-type {\n",
       "        vertical-align: middle;\n",
       "    }\n",
       "\n",
       "    .dataframe tbody tr th {\n",
       "        vertical-align: top;\n",
       "    }\n",
       "\n",
       "    .dataframe thead th {\n",
       "        text-align: right;\n",
       "    }\n",
       "</style>\n",
       "<table border=\"1\" class=\"dataframe\">\n",
       "  <thead>\n",
       "    <tr style=\"text-align: right;\">\n",
       "      <th></th>\n",
       "      <th>year</th>\n",
       "      <th>fips</th>\n",
       "      <th>age</th>\n",
       "      <th>deaths</th>\n",
       "      <th>pop</th>\n",
       "    </tr>\n",
       "  </thead>\n",
       "  <tbody>\n",
       "    <tr>\n",
       "      <th>0</th>\n",
       "      <td>1970</td>\n",
       "      <td>01001</td>\n",
       "      <td>55-64 years</td>\n",
       "      <td>1</td>\n",
       "      <td>1925</td>\n",
       "    </tr>\n",
       "    <tr>\n",
       "      <th>1</th>\n",
       "      <td>1970</td>\n",
       "      <td>01001</td>\n",
       "      <td>65-74 years</td>\n",
       "      <td>2</td>\n",
       "      <td>1249</td>\n",
       "    </tr>\n",
       "  </tbody>\n",
       "</table>\n",
       "</div>"
      ],
      "text/plain": [
       "   year   fips          age  deaths   pop\n",
       "0  1970  01001  55-64 years       1  1925\n",
       "1  1970  01001  65-74 years       2  1249"
      ]
     },
     "execution_count": 73,
     "metadata": {},
     "output_type": "execute_result"
    }
   ],
   "source": [
    "df_current = death_fips.merge(pop_fips, on = ['year', 'fips', 'age'], how = 'inner')\n",
    "df_current"
   ]
  },
  {
   "cell_type": "code",
   "execution_count": 74,
   "id": "19a83ae9-76b2-41ac-9be7-7e214d4fc258",
   "metadata": {
    "tags": []
   },
   "outputs": [],
   "source": [
    "standard_pop = standard_pop.rename(columns = {'Age': 'age'})"
   ]
  },
  {
   "cell_type": "code",
   "execution_count": 75,
   "id": "f7f12c8c-3b03-4ee5-8880-be9b1f158c76",
   "metadata": {
    "tags": []
   },
   "outputs": [
    {
     "data": {
      "text/html": [
       "<div>\n",
       "<style scoped>\n",
       "    .dataframe tbody tr th:only-of-type {\n",
       "        vertical-align: middle;\n",
       "    }\n",
       "\n",
       "    .dataframe tbody tr th {\n",
       "        vertical-align: top;\n",
       "    }\n",
       "\n",
       "    .dataframe thead th {\n",
       "        text-align: right;\n",
       "    }\n",
       "</style>\n",
       "<table border=\"1\" class=\"dataframe\">\n",
       "  <thead>\n",
       "    <tr style=\"text-align: right;\">\n",
       "      <th></th>\n",
       "      <th>age</th>\n",
       "      <th>Number</th>\n",
       "      <th>Weight</th>\n",
       "    </tr>\n",
       "  </thead>\n",
       "  <tbody>\n",
       "    <tr>\n",
       "      <th>1</th>\n",
       "      <td>Under 1 year</td>\n",
       "      <td>13818</td>\n",
       "      <td>0.013818</td>\n",
       "    </tr>\n",
       "    <tr>\n",
       "      <th>2</th>\n",
       "      <td>1-4 years</td>\n",
       "      <td>55317</td>\n",
       "      <td>0.055317</td>\n",
       "    </tr>\n",
       "    <tr>\n",
       "      <th>3</th>\n",
       "      <td>5-14 years</td>\n",
       "      <td>145565</td>\n",
       "      <td>0.145565</td>\n",
       "    </tr>\n",
       "    <tr>\n",
       "      <th>4</th>\n",
       "      <td>15-24 years</td>\n",
       "      <td>138646</td>\n",
       "      <td>0.138646</td>\n",
       "    </tr>\n",
       "    <tr>\n",
       "      <th>5</th>\n",
       "      <td>25-34 years</td>\n",
       "      <td>135573</td>\n",
       "      <td>0.135573</td>\n",
       "    </tr>\n",
       "    <tr>\n",
       "      <th>6</th>\n",
       "      <td>35-44 years</td>\n",
       "      <td>162613</td>\n",
       "      <td>0.162613</td>\n",
       "    </tr>\n",
       "    <tr>\n",
       "      <th>7</th>\n",
       "      <td>45-54 years</td>\n",
       "      <td>134834</td>\n",
       "      <td>0.134834</td>\n",
       "    </tr>\n",
       "    <tr>\n",
       "      <th>8</th>\n",
       "      <td>55-64 years</td>\n",
       "      <td>87247</td>\n",
       "      <td>0.087247</td>\n",
       "    </tr>\n",
       "    <tr>\n",
       "      <th>9</th>\n",
       "      <td>65-74 years</td>\n",
       "      <td>66037</td>\n",
       "      <td>0.066037</td>\n",
       "    </tr>\n",
       "    <tr>\n",
       "      <th>10</th>\n",
       "      <td>75-84 years</td>\n",
       "      <td>44842</td>\n",
       "      <td>0.044842</td>\n",
       "    </tr>\n",
       "    <tr>\n",
       "      <th>11</th>\n",
       "      <td>85 years and over</td>\n",
       "      <td>15508</td>\n",
       "      <td>0.015508</td>\n",
       "    </tr>\n",
       "  </tbody>\n",
       "</table>\n",
       "</div>"
      ],
      "text/plain": [
       "                  age  Number    Weight\n",
       "1        Under 1 year   13818  0.013818\n",
       "2           1-4 years   55317  0.055317\n",
       "3          5-14 years  145565  0.145565\n",
       "4         15-24 years  138646  0.138646\n",
       "5         25-34 years  135573  0.135573\n",
       "6         35-44 years  162613  0.162613\n",
       "7         45-54 years  134834  0.134834\n",
       "8         55-64 years   87247  0.087247\n",
       "9         65-74 years   66037  0.066037\n",
       "10        75-84 years   44842  0.044842\n",
       "11  85 years and over   15508  0.015508"
      ]
     },
     "execution_count": 75,
     "metadata": {},
     "output_type": "execute_result"
    }
   ],
   "source": [
    "standard_pop"
   ]
  },
  {
   "cell_type": "code",
   "execution_count": null,
   "id": "509c8695-c42d-4bc9-aab5-3edf405c1a3c",
   "metadata": {},
   "outputs": [],
   "source": [
    "df_current = df_current.merge(standard_pop, on = {'fips'})"
   ]
  },
  {
   "cell_type": "code",
   "execution_count": null,
   "id": "3f208580-208e-45fa-ba0f-71c1fc4bf4c7",
   "metadata": {},
   "outputs": [],
   "source": []
  },
  {
   "cell_type": "code",
   "execution_count": null,
   "id": "9b9a726c-9e59-448d-83ac-ae39ab3cb48b",
   "metadata": {},
   "outputs": [],
   "source": []
  },
  {
   "cell_type": "code",
   "execution_count": null,
   "id": "2f213808-0a8e-486a-80d8-34798567e4bd",
   "metadata": {},
   "outputs": [],
   "source": [
    "def age_adjusted_rate(df, df_pop):\n",
    "    for fips in fips_list:\n",
    "        df_fips = df[df['fips'] == fips]\n",
    "        pop_fips = df_pop[df_pop]\n",
    "        \n",
    "        \n",
    "    dict1 = {}\n",
    "    df = df.groupby(['year','age_range']).sum()\n",
    "    df = df.reset_index()\n",
    "    df['cube_rate'] = (df['deaths'] / df['pop']) * 100000\n",
    "    df = df.merge(standard_pop, on = ['age_range'], how = 'inner')\n",
    "    df['cube_rate_weight'] = df['cube_rate'] * df['Weight']\n",
    "    age_adjusted_rate = round(sum(df['cube_rate_weight']),1)\n",
    "    key = df_type + '_Rate'\n",
    "    dict1[key] = age_adjusted_rate\n",
    "    print('age_adjusted_rate for ' + df_type + ' :' + str(age_adjusted_rate))\n",
    "    return dict1"
   ]
  },
  {
   "cell_type": "code",
   "execution_count": null,
   "id": "211aa537-8595-4a9e-b048-b00f853abb9f",
   "metadata": {},
   "outputs": [],
   "source": []
  },
  {
   "cell_type": "code",
   "execution_count": null,
   "id": "4ab91206-8eaa-4bd3-ac46-7887947150ee",
   "metadata": {},
   "outputs": [],
   "source": []
  },
  {
   "cell_type": "code",
   "execution_count": null,
   "id": "b2c8015e-c3f8-4029-a3dc-0372354893e6",
   "metadata": {},
   "outputs": [],
   "source": []
  },
  {
   "cell_type": "code",
   "execution_count": 19,
   "id": "233e4502-03bf-44bb-8db1-8299f80fafc6",
   "metadata": {
    "tags": []
   },
   "outputs": [],
   "source": [
    "death_white = cancer_death[cancer_death['race'] == 'White']\n",
    "death_black = cancer_death[cancer_death['race'] == 'Black']"
   ]
  },
  {
   "cell_type": "code",
   "execution_count": 20,
   "id": "5a854ac5-fe6e-47c3-b12f-64be517017c0",
   "metadata": {
    "tags": []
   },
   "outputs": [
    {
     "data": {
      "text/plain": [
       "65108"
      ]
     },
     "execution_count": 20,
     "metadata": {},
     "output_type": "execute_result"
    }
   ],
   "source": [
    "sum(cancer_death['deaths'])"
   ]
  },
  {
   "cell_type": "code",
   "execution_count": 21,
   "id": "b8a7f19e-138c-4009-9996-6f09c8757359",
   "metadata": {
    "tags": []
   },
   "outputs": [
    {
     "data": {
      "text/plain": [
       "58540"
      ]
     },
     "execution_count": 21,
     "metadata": {},
     "output_type": "execute_result"
    }
   ],
   "source": [
    "sum(death_white['deaths'])"
   ]
  },
  {
   "cell_type": "code",
   "execution_count": 22,
   "id": "fd369617-0b33-4533-b8d2-135d3c1f73a1",
   "metadata": {
    "tags": []
   },
   "outputs": [
    {
     "data": {
      "text/plain": [
       "6232"
      ]
     },
     "execution_count": 22,
     "metadata": {},
     "output_type": "execute_result"
    }
   ],
   "source": [
    "sum(death_black['deaths'])"
   ]
  },
  {
   "cell_type": "code",
   "execution_count": 23,
   "id": "a5b39861-e8d4-4e81-9eac-86ef799b2f4a",
   "metadata": {
    "tags": []
   },
   "outputs": [],
   "source": [
    "all_male = cancer_death[cancer_death['sex'] == 'Male']\n",
    "all_female = cancer_death[cancer_death['sex'] == 'Female']"
   ]
  },
  {
   "cell_type": "code",
   "execution_count": 24,
   "id": "f347853d-ec7c-4da6-bf4b-94a74c450ea4",
   "metadata": {
    "tags": []
   },
   "outputs": [
    {
     "data": {
      "text/plain": [
       "52753"
      ]
     },
     "execution_count": 24,
     "metadata": {},
     "output_type": "execute_result"
    }
   ],
   "source": [
    "sum(all_male['deaths'])"
   ]
  },
  {
   "cell_type": "code",
   "execution_count": 25,
   "id": "21fe783c-38c2-4995-8aaf-dec9e23f2c47",
   "metadata": {
    "tags": []
   },
   "outputs": [
    {
     "data": {
      "text/plain": [
       "12355"
      ]
     },
     "execution_count": 25,
     "metadata": {},
     "output_type": "execute_result"
    }
   ],
   "source": [
    "sum(all_female['deaths'])"
   ]
  },
  {
   "cell_type": "code",
   "execution_count": 26,
   "id": "30cbf62a-4370-4e6d-be74-1b56938ffa6b",
   "metadata": {
    "tags": []
   },
   "outputs": [],
   "source": [
    "white_male = death_white[death_white['sex'] == 'Male']\n",
    "white_female = death_white[death_white['sex'] == 'Female']"
   ]
  },
  {
   "cell_type": "code",
   "execution_count": 27,
   "id": "07f1f2a3-18db-4e1c-8f2b-e5ee7495f0e6",
   "metadata": {
    "tags": []
   },
   "outputs": [
    {
     "data": {
      "text/plain": [
       "47352"
      ]
     },
     "execution_count": 27,
     "metadata": {},
     "output_type": "execute_result"
    }
   ],
   "source": [
    "sum(white_male['deaths'])"
   ]
  },
  {
   "cell_type": "code",
   "execution_count": 28,
   "id": "0e4d60e1-f5b1-4b0d-b288-2985b13d6fa3",
   "metadata": {
    "tags": []
   },
   "outputs": [
    {
     "data": {
      "text/plain": [
       "11188"
      ]
     },
     "execution_count": 28,
     "metadata": {},
     "output_type": "execute_result"
    }
   ],
   "source": [
    "sum(white_female['deaths'])"
   ]
  },
  {
   "cell_type": "code",
   "execution_count": 29,
   "id": "37079040-964a-45ab-bc5d-c53601d51a04",
   "metadata": {
    "tags": []
   },
   "outputs": [],
   "source": [
    "black_male = death_black[death_black['sex'] == 'Male']\n",
    "black_female = death_black[death_black['sex'] == 'Female']"
   ]
  },
  {
   "cell_type": "code",
   "execution_count": 30,
   "id": "9019c36a-b173-4df5-9f0d-7fdab78fe206",
   "metadata": {
    "tags": []
   },
   "outputs": [
    {
     "data": {
      "text/plain": [
       "5123"
      ]
     },
     "execution_count": 30,
     "metadata": {},
     "output_type": "execute_result"
    }
   ],
   "source": [
    "sum(black_male['deaths'])"
   ]
  },
  {
   "cell_type": "code",
   "execution_count": 31,
   "id": "46c9e778-36b7-4823-b6c2-a286c20cac94",
   "metadata": {
    "tags": []
   },
   "outputs": [
    {
     "data": {
      "text/plain": [
       "1109"
      ]
     },
     "execution_count": 31,
     "metadata": {},
     "output_type": "execute_result"
    }
   ],
   "source": [
    "sum(black_female['deaths'])"
   ]
  },
  {
   "cell_type": "code",
   "execution_count": 32,
   "id": "c2e2a119-5ff2-46ed-9c1b-453784e878d2",
   "metadata": {
    "tags": []
   },
   "outputs": [],
   "source": [
    "def printDeathCount2(df):\n",
    "    data = {}\n",
    "    all_deaths = sum(df['deaths'])\n",
    "    print('All Races Total: ' + str(all_deaths))\n",
    "    data['All_Races_Total_Count'] = all_deaths\n",
    "    \n",
    "    all_male = df[df['sex'] == 'Male']\n",
    "    all_female = df[df['sex'] == 'Female']\n",
    "    all_male_death = sum(all_male['deaths'])\n",
    "    all_female_death = sum(all_female['deaths'])\n",
    "    print('All Races Male: ' + str(all_male_death))\n",
    "    print('All Races Female: ' + str(all_female_death))\n",
    "    data['All_Races_Male_Count'] = all_male_death\n",
    "    data['All_Races_Female_Count'] = all_female_death\n",
    "    \n",
    "    death_white = df[df['race'] == 'White']\n",
    "    death_black = df[df['race'] == 'Black']\n",
    "    white_male = death_white[death_white['sex'] == 'Male']\n",
    "    white_female = death_white[death_white['sex'] == 'Female']\n",
    "    white_deaths = sum(death_white['deaths'])\n",
    "    white_male_death = sum(white_male['deaths'])\n",
    "    white_female_death = sum(white_female['deaths'])\n",
    "    print('White Total: ' + str(white_deaths))\n",
    "    print('White Male: ' + str(white_male_death))\n",
    "    print('White Female: ' + str(white_female_death))\n",
    "    data['White_Total_Count'] = white_deaths\n",
    "    data['White_Male_Count'] = white_male_death\n",
    "    data['White_Female_Count'] = white_female_death\n",
    "    \n",
    "    \n",
    "    black_male = death_black[death_black['sex'] == 'Male']\n",
    "    black_female = death_black[death_black['sex'] == 'Female']\n",
    "    black_deaths = sum(death_black['deaths'])\n",
    "    black_male_death = sum(black_male['deaths'])\n",
    "    black_female_death = sum(black_female['deaths'])\n",
    "    print('Black Total: ' + str(black_deaths))\n",
    "    print('Black Male: ' + str(black_male_death))\n",
    "    print('Black Female: ' + str(black_female_death))\n",
    "    data['Black_Total_Count'] = black_deaths\n",
    "    data['Black_Male_Count'] = black_male_death\n",
    "    data['Black_Female_Count'] = black_female_death\n",
    "    \n",
    "    return data"
   ]
  },
  {
   "cell_type": "code",
   "execution_count": 33,
   "id": "c47b0c92-a5ba-406c-a4cb-4fc83457229c",
   "metadata": {
    "tags": []
   },
   "outputs": [
    {
     "name": "stdout",
     "output_type": "stream",
     "text": [
      "All Races Total: 65108\n",
      "All Races Male: 52753\n",
      "All Races Female: 12355\n",
      "White Total: 58540\n",
      "White Male: 47352\n",
      "White Female: 11188\n",
      "Black Total: 6232\n",
      "Black Male: 5123\n",
      "Black Female: 1109\n"
     ]
    }
   ],
   "source": [
    "data = printDeathCount2(cancer_death)"
   ]
  },
  {
   "cell_type": "code",
   "execution_count": 34,
   "id": "949d03de-4a60-4024-ad4e-e206a2d149ba",
   "metadata": {
    "tags": []
   },
   "outputs": [
    {
     "data": {
      "text/plain": [
       "{'All_Races_Total_Count': 65108,\n",
       " 'All_Races_Male_Count': 52753,\n",
       " 'All_Races_Female_Count': 12355,\n",
       " 'White_Total_Count': 58540,\n",
       " 'White_Male_Count': 47352,\n",
       " 'White_Female_Count': 11188,\n",
       " 'Black_Total_Count': 6232,\n",
       " 'Black_Male_Count': 5123,\n",
       " 'Black_Female_Count': 1109}"
      ]
     },
     "execution_count": 34,
     "metadata": {},
     "output_type": "execute_result"
    }
   ],
   "source": [
    "data"
   ]
  },
  {
   "cell_type": "markdown",
   "id": "3642d6b6-e853-4767-bd9a-70a7d91891f8",
   "metadata": {},
   "source": [
    "### Calculate age adjusted rates"
   ]
  },
  {
   "cell_type": "code",
   "execution_count": 35,
   "id": "54186537-f064-4f72-b17c-2929d2044f84",
   "metadata": {
    "tags": []
   },
   "outputs": [
    {
     "data": {
      "text/plain": [
       "array(['black', 'other', 'white'], dtype=object)"
      ]
     },
     "execution_count": 35,
     "metadata": {},
     "output_type": "execute_result"
    }
   ],
   "source": [
    "pop_year['race'].unique()"
   ]
  },
  {
   "cell_type": "code",
   "execution_count": 36,
   "id": "9622a923-7f16-4c5e-a104-8846eb48f0f5",
   "metadata": {
    "tags": []
   },
   "outputs": [
    {
     "data": {
      "text/html": [
       "<div>\n",
       "<style scoped>\n",
       "    .dataframe tbody tr th:only-of-type {\n",
       "        vertical-align: middle;\n",
       "    }\n",
       "\n",
       "    .dataframe tbody tr th {\n",
       "        vertical-align: top;\n",
       "    }\n",
       "\n",
       "    .dataframe thead th {\n",
       "        text-align: right;\n",
       "    }\n",
       "</style>\n",
       "<table border=\"1\" class=\"dataframe\">\n",
       "  <thead>\n",
       "    <tr style=\"text-align: right;\">\n",
       "      <th></th>\n",
       "      <th>year</th>\n",
       "      <th>race</th>\n",
       "      <th>sex</th>\n",
       "      <th>age_range</th>\n",
       "      <th>pop</th>\n",
       "    </tr>\n",
       "  </thead>\n",
       "  <tbody>\n",
       "    <tr>\n",
       "      <th>0</th>\n",
       "      <td>1969</td>\n",
       "      <td>Black</td>\n",
       "      <td>Female</td>\n",
       "      <td>65 and older</td>\n",
       "      <td>769920</td>\n",
       "    </tr>\n",
       "    <tr>\n",
       "      <th>1</th>\n",
       "      <td>1969</td>\n",
       "      <td>Black</td>\n",
       "      <td>Female</td>\n",
       "      <td>age 0-24</td>\n",
       "      <td>5679845</td>\n",
       "    </tr>\n",
       "    <tr>\n",
       "      <th>2</th>\n",
       "      <td>1969</td>\n",
       "      <td>Black</td>\n",
       "      <td>Female</td>\n",
       "      <td>age 25-64</td>\n",
       "      <td>4162512</td>\n",
       "    </tr>\n",
       "    <tr>\n",
       "      <th>3</th>\n",
       "      <td>1969</td>\n",
       "      <td>Black</td>\n",
       "      <td>Male</td>\n",
       "      <td>65 and older</td>\n",
       "      <td>593563</td>\n",
       "    </tr>\n",
       "    <tr>\n",
       "      <th>4</th>\n",
       "      <td>1969</td>\n",
       "      <td>Black</td>\n",
       "      <td>Male</td>\n",
       "      <td>age 0-24</td>\n",
       "      <td>5409315</td>\n",
       "    </tr>\n",
       "    <tr>\n",
       "      <th>...</th>\n",
       "      <td>...</td>\n",
       "      <td>...</td>\n",
       "      <td>...</td>\n",
       "      <td>...</td>\n",
       "      <td>...</td>\n",
       "    </tr>\n",
       "    <tr>\n",
       "      <th>931</th>\n",
       "      <td>2020</td>\n",
       "      <td>White</td>\n",
       "      <td>Female</td>\n",
       "      <td>age 0-24</td>\n",
       "      <td>33811534</td>\n",
       "    </tr>\n",
       "    <tr>\n",
       "      <th>932</th>\n",
       "      <td>2020</td>\n",
       "      <td>White</td>\n",
       "      <td>Female</td>\n",
       "      <td>age 25-64</td>\n",
       "      <td>59723469</td>\n",
       "    </tr>\n",
       "    <tr>\n",
       "      <th>933</th>\n",
       "      <td>2020</td>\n",
       "      <td>White</td>\n",
       "      <td>Male</td>\n",
       "      <td>65 and older</td>\n",
       "      <td>19428990</td>\n",
       "    </tr>\n",
       "    <tr>\n",
       "      <th>934</th>\n",
       "      <td>2020</td>\n",
       "      <td>White</td>\n",
       "      <td>Male</td>\n",
       "      <td>age 0-24</td>\n",
       "      <td>35476833</td>\n",
       "    </tr>\n",
       "    <tr>\n",
       "      <th>935</th>\n",
       "      <td>2020</td>\n",
       "      <td>White</td>\n",
       "      <td>Male</td>\n",
       "      <td>age 25-64</td>\n",
       "      <td>60376126</td>\n",
       "    </tr>\n",
       "  </tbody>\n",
       "</table>\n",
       "<p>936 rows × 5 columns</p>\n",
       "</div>"
      ],
      "text/plain": [
       "     year   race     sex     age_range       pop\n",
       "0    1969  Black  Female  65 and older    769920\n",
       "1    1969  Black  Female      age 0-24   5679845\n",
       "2    1969  Black  Female     age 25-64   4162512\n",
       "3    1969  Black    Male  65 and older    593563\n",
       "4    1969  Black    Male      age 0-24   5409315\n",
       "..    ...    ...     ...           ...       ...\n",
       "931  2020  White  Female      age 0-24  33811534\n",
       "932  2020  White  Female     age 25-64  59723469\n",
       "933  2020  White    Male  65 and older  19428990\n",
       "934  2020  White    Male      age 0-24  35476833\n",
       "935  2020  White    Male     age 25-64  60376126\n",
       "\n",
       "[936 rows x 5 columns]"
      ]
     },
     "execution_count": 36,
     "metadata": {},
     "output_type": "execute_result"
    }
   ],
   "source": [
    "race_replace = {'white': 'White', 'black': 'Black', 'other': 'Other'}\n",
    "pop_year = pop_year.replace(race_replace)\n",
    "pop_year"
   ]
  },
  {
   "cell_type": "code",
   "execution_count": 37,
   "id": "3484142b-4db6-4d2a-97f9-1252a07fa3b6",
   "metadata": {
    "tags": []
   },
   "outputs": [
    {
     "data": {
      "text/html": [
       "<div>\n",
       "<style scoped>\n",
       "    .dataframe tbody tr th:only-of-type {\n",
       "        vertical-align: middle;\n",
       "    }\n",
       "\n",
       "    .dataframe tbody tr th {\n",
       "        vertical-align: top;\n",
       "    }\n",
       "\n",
       "    .dataframe thead th {\n",
       "        text-align: right;\n",
       "    }\n",
       "</style>\n",
       "<table border=\"1\" class=\"dataframe\">\n",
       "  <thead>\n",
       "    <tr style=\"text-align: right;\">\n",
       "      <th></th>\n",
       "      <th>year</th>\n",
       "      <th>sex</th>\n",
       "      <th>race</th>\n",
       "      <th>age_range</th>\n",
       "      <th>deaths</th>\n",
       "      <th>pop</th>\n",
       "    </tr>\n",
       "  </thead>\n",
       "  <tbody>\n",
       "    <tr>\n",
       "      <th>0</th>\n",
       "      <td>2019</td>\n",
       "      <td>Female</td>\n",
       "      <td>Black</td>\n",
       "      <td>65 and older</td>\n",
       "      <td>4553</td>\n",
       "      <td>2901018</td>\n",
       "    </tr>\n",
       "    <tr>\n",
       "      <th>1</th>\n",
       "      <td>2019</td>\n",
       "      <td>Female</td>\n",
       "      <td>Black</td>\n",
       "      <td>age 0-24</td>\n",
       "      <td>5</td>\n",
       "      <td>7735808</td>\n",
       "    </tr>\n",
       "    <tr>\n",
       "      <th>2</th>\n",
       "      <td>2019</td>\n",
       "      <td>Female</td>\n",
       "      <td>Black</td>\n",
       "      <td>age 25-64</td>\n",
       "      <td>2011</td>\n",
       "      <td>11452879</td>\n",
       "    </tr>\n",
       "    <tr>\n",
       "      <th>3</th>\n",
       "      <td>2019</td>\n",
       "      <td>Female</td>\n",
       "      <td>Other</td>\n",
       "      <td>65 and older</td>\n",
       "      <td>1638</td>\n",
       "      <td>1537895</td>\n",
       "    </tr>\n",
       "    <tr>\n",
       "      <th>4</th>\n",
       "      <td>2019</td>\n",
       "      <td>Female</td>\n",
       "      <td>Other</td>\n",
       "      <td>age 0-24</td>\n",
       "      <td>1</td>\n",
       "      <td>4096726</td>\n",
       "    </tr>\n",
       "    <tr>\n",
       "      <th>5</th>\n",
       "      <td>2019</td>\n",
       "      <td>Female</td>\n",
       "      <td>Other</td>\n",
       "      <td>age 25-64</td>\n",
       "      <td>580</td>\n",
       "      <td>7057140</td>\n",
       "    </tr>\n",
       "    <tr>\n",
       "      <th>6</th>\n",
       "      <td>2019</td>\n",
       "      <td>Female</td>\n",
       "      <td>White</td>\n",
       "      <td>65 and older</td>\n",
       "      <td>43254</td>\n",
       "      <td>22887775</td>\n",
       "    </tr>\n",
       "    <tr>\n",
       "      <th>7</th>\n",
       "      <td>2019</td>\n",
       "      <td>Female</td>\n",
       "      <td>White</td>\n",
       "      <td>age 0-24</td>\n",
       "      <td>9</td>\n",
       "      <td>34033757</td>\n",
       "    </tr>\n",
       "    <tr>\n",
       "      <th>8</th>\n",
       "      <td>2019</td>\n",
       "      <td>Female</td>\n",
       "      <td>White</td>\n",
       "      <td>age 25-64</td>\n",
       "      <td>12759</td>\n",
       "      <td>59372188</td>\n",
       "    </tr>\n",
       "    <tr>\n",
       "      <th>9</th>\n",
       "      <td>2019</td>\n",
       "      <td>Male</td>\n",
       "      <td>Black</td>\n",
       "      <td>65 and older</td>\n",
       "      <td>5657</td>\n",
       "      <td>1964945</td>\n",
       "    </tr>\n",
       "    <tr>\n",
       "      <th>10</th>\n",
       "      <td>2019</td>\n",
       "      <td>Male</td>\n",
       "      <td>Black</td>\n",
       "      <td>age 0-24</td>\n",
       "      <td>5</td>\n",
       "      <td>8036958</td>\n",
       "    </tr>\n",
       "    <tr>\n",
       "      <th>11</th>\n",
       "      <td>2019</td>\n",
       "      <td>Male</td>\n",
       "      <td>Black</td>\n",
       "      <td>age 25-64</td>\n",
       "      <td>2889</td>\n",
       "      <td>10369699</td>\n",
       "    </tr>\n",
       "    <tr>\n",
       "      <th>12</th>\n",
       "      <td>2019</td>\n",
       "      <td>Male</td>\n",
       "      <td>Other</td>\n",
       "      <td>65 and older</td>\n",
       "      <td>1918</td>\n",
       "      <td>1218459</td>\n",
       "    </tr>\n",
       "    <tr>\n",
       "      <th>13</th>\n",
       "      <td>2019</td>\n",
       "      <td>Male</td>\n",
       "      <td>Other</td>\n",
       "      <td>age 25-64</td>\n",
       "      <td>696</td>\n",
       "      <td>6532458</td>\n",
       "    </tr>\n",
       "    <tr>\n",
       "      <th>14</th>\n",
       "      <td>2019</td>\n",
       "      <td>Male</td>\n",
       "      <td>White</td>\n",
       "      <td>65 and older</td>\n",
       "      <td>48751</td>\n",
       "      <td>18773779</td>\n",
       "    </tr>\n",
       "    <tr>\n",
       "      <th>15</th>\n",
       "      <td>2019</td>\n",
       "      <td>Male</td>\n",
       "      <td>White</td>\n",
       "      <td>age 0-24</td>\n",
       "      <td>10</td>\n",
       "      <td>35368214</td>\n",
       "    </tr>\n",
       "    <tr>\n",
       "      <th>16</th>\n",
       "      <td>2019</td>\n",
       "      <td>Male</td>\n",
       "      <td>White</td>\n",
       "      <td>age 25-64</td>\n",
       "      <td>15080</td>\n",
       "      <td>60312174</td>\n",
       "    </tr>\n",
       "  </tbody>\n",
       "</table>\n",
       "</div>"
      ],
      "text/plain": [
       "    year     sex   race     age_range  deaths       pop\n",
       "0   2019  Female  Black  65 and older    4553   2901018\n",
       "1   2019  Female  Black      age 0-24       5   7735808\n",
       "2   2019  Female  Black     age 25-64    2011  11452879\n",
       "3   2019  Female  Other  65 and older    1638   1537895\n",
       "4   2019  Female  Other      age 0-24       1   4096726\n",
       "5   2019  Female  Other     age 25-64     580   7057140\n",
       "6   2019  Female  White  65 and older   43254  22887775\n",
       "7   2019  Female  White      age 0-24       9  34033757\n",
       "8   2019  Female  White     age 25-64   12759  59372188\n",
       "9   2019    Male  Black  65 and older    5657   1964945\n",
       "10  2019    Male  Black      age 0-24       5   8036958\n",
       "11  2019    Male  Black     age 25-64    2889  10369699\n",
       "12  2019    Male  Other  65 and older    1918   1218459\n",
       "13  2019    Male  Other     age 25-64     696   6532458\n",
       "14  2019    Male  White  65 and older   48751  18773779\n",
       "15  2019    Male  White      age 0-24      10  35368214\n",
       "16  2019    Male  White     age 25-64   15080  60312174"
      ]
     },
     "execution_count": 37,
     "metadata": {},
     "output_type": "execute_result"
    }
   ],
   "source": [
    "cancer_death = cancer_death.merge(pop_year, on = ['year', 'race', 'sex', 'age_range'], how = 'inner')\n",
    "cancer_death"
   ]
  },
  {
   "cell_type": "code",
   "execution_count": 38,
   "id": "c7e2af43-1b68-4122-b890-cdd7674d075f",
   "metadata": {
    "tags": []
   },
   "outputs": [
    {
     "data": {
      "text/html": [
       "<div>\n",
       "<style scoped>\n",
       "    .dataframe tbody tr th:only-of-type {\n",
       "        vertical-align: middle;\n",
       "    }\n",
       "\n",
       "    .dataframe tbody tr th {\n",
       "        vertical-align: top;\n",
       "    }\n",
       "\n",
       "    .dataframe thead th {\n",
       "        text-align: right;\n",
       "    }\n",
       "</style>\n",
       "<table border=\"1\" class=\"dataframe\">\n",
       "  <thead>\n",
       "    <tr style=\"text-align: right;\">\n",
       "      <th></th>\n",
       "      <th>age_range</th>\n",
       "      <th>Number</th>\n",
       "      <th>Weight</th>\n",
       "    </tr>\n",
       "  </thead>\n",
       "  <tbody>\n",
       "    <tr>\n",
       "      <th>0</th>\n",
       "      <td>65 and older</td>\n",
       "      <td>126387</td>\n",
       "      <td>0.126387</td>\n",
       "    </tr>\n",
       "    <tr>\n",
       "      <th>1</th>\n",
       "      <td>age 0-24</td>\n",
       "      <td>353346</td>\n",
       "      <td>0.353346</td>\n",
       "    </tr>\n",
       "    <tr>\n",
       "      <th>2</th>\n",
       "      <td>age 25-64</td>\n",
       "      <td>520267</td>\n",
       "      <td>0.520267</td>\n",
       "    </tr>\n",
       "  </tbody>\n",
       "</table>\n",
       "</div>"
      ],
      "text/plain": [
       "      age_range  Number       Weight\n",
       "0  65 and older    126387   0.126387\n",
       "1      age 0-24    353346   0.353346\n",
       "2     age 25-64    520267   0.520267"
      ]
     },
     "execution_count": 38,
     "metadata": {},
     "output_type": "execute_result"
    }
   ],
   "source": [
    "standard_pop"
   ]
  },
  {
   "cell_type": "code",
   "execution_count": 39,
   "id": "1ea6d848-9c14-4f6d-841e-6e3ccfda1d3b",
   "metadata": {
    "tags": []
   },
   "outputs": [],
   "source": [
    "standard_pop = standard_pop.rename(columns = {'Number  ': 'Number', '   Weight': 'Weight'})"
   ]
  },
  {
   "cell_type": "code",
   "execution_count": 40,
   "id": "9a5442b7-cf58-446f-ba9b-e5ce209ffa5b",
   "metadata": {
    "tags": []
   },
   "outputs": [
    {
     "data": {
      "text/html": [
       "<div>\n",
       "<style scoped>\n",
       "    .dataframe tbody tr th:only-of-type {\n",
       "        vertical-align: middle;\n",
       "    }\n",
       "\n",
       "    .dataframe tbody tr th {\n",
       "        vertical-align: top;\n",
       "    }\n",
       "\n",
       "    .dataframe thead th {\n",
       "        text-align: right;\n",
       "    }\n",
       "</style>\n",
       "<table border=\"1\" class=\"dataframe\">\n",
       "  <thead>\n",
       "    <tr style=\"text-align: right;\">\n",
       "      <th></th>\n",
       "      <th>year</th>\n",
       "      <th>age_range</th>\n",
       "      <th>deaths</th>\n",
       "      <th>pop</th>\n",
       "    </tr>\n",
       "  </thead>\n",
       "  <tbody>\n",
       "    <tr>\n",
       "      <th>0</th>\n",
       "      <td>2019</td>\n",
       "      <td>65 and older</td>\n",
       "      <td>105771</td>\n",
       "      <td>49283871</td>\n",
       "    </tr>\n",
       "    <tr>\n",
       "      <th>1</th>\n",
       "      <td>2019</td>\n",
       "      <td>age 0-24</td>\n",
       "      <td>30</td>\n",
       "      <td>89271463</td>\n",
       "    </tr>\n",
       "    <tr>\n",
       "      <th>2</th>\n",
       "      <td>2019</td>\n",
       "      <td>age 25-64</td>\n",
       "      <td>34015</td>\n",
       "      <td>155096538</td>\n",
       "    </tr>\n",
       "  </tbody>\n",
       "</table>\n",
       "</div>"
      ],
      "text/plain": [
       "   year     age_range  deaths        pop\n",
       "0  2019  65 and older  105771   49283871\n",
       "1  2019      age 0-24      30   89271463\n",
       "2  2019     age 25-64   34015  155096538"
      ]
     },
     "execution_count": 40,
     "metadata": {},
     "output_type": "execute_result"
    }
   ],
   "source": [
    "cancer_all_races = cancer_death.drop(['sex', 'race'], axis = 1)\n",
    "cancer_all_races = cancer_all_races.groupby(['year','age_range']).sum()\n",
    "cancer_all_races = cancer_all_races.reset_index()\n",
    "cancer_all_races"
   ]
  },
  {
   "cell_type": "code",
   "execution_count": 41,
   "id": "a97ca5c5-bc6b-4441-bc26-f8ab08e83de1",
   "metadata": {
    "tags": []
   },
   "outputs": [
    {
     "data": {
      "text/html": [
       "<div>\n",
       "<style scoped>\n",
       "    .dataframe tbody tr th:only-of-type {\n",
       "        vertical-align: middle;\n",
       "    }\n",
       "\n",
       "    .dataframe tbody tr th {\n",
       "        vertical-align: top;\n",
       "    }\n",
       "\n",
       "    .dataframe thead th {\n",
       "        text-align: right;\n",
       "    }\n",
       "</style>\n",
       "<table border=\"1\" class=\"dataframe\">\n",
       "  <thead>\n",
       "    <tr style=\"text-align: right;\">\n",
       "      <th></th>\n",
       "      <th>year</th>\n",
       "      <th>age_range</th>\n",
       "      <th>deaths</th>\n",
       "      <th>pop</th>\n",
       "      <th>cube_rate</th>\n",
       "      <th>Number</th>\n",
       "      <th>Weight</th>\n",
       "    </tr>\n",
       "  </thead>\n",
       "  <tbody>\n",
       "    <tr>\n",
       "      <th>0</th>\n",
       "      <td>2019</td>\n",
       "      <td>65 and older</td>\n",
       "      <td>105771</td>\n",
       "      <td>49283871</td>\n",
       "      <td>214.615853</td>\n",
       "      <td>126387</td>\n",
       "      <td>0.126387</td>\n",
       "    </tr>\n",
       "    <tr>\n",
       "      <th>1</th>\n",
       "      <td>2019</td>\n",
       "      <td>age 0-24</td>\n",
       "      <td>30</td>\n",
       "      <td>89271463</td>\n",
       "      <td>0.033605</td>\n",
       "      <td>353346</td>\n",
       "      <td>0.353346</td>\n",
       "    </tr>\n",
       "    <tr>\n",
       "      <th>2</th>\n",
       "      <td>2019</td>\n",
       "      <td>age 25-64</td>\n",
       "      <td>34015</td>\n",
       "      <td>155096538</td>\n",
       "      <td>21.931502</td>\n",
       "      <td>520267</td>\n",
       "      <td>0.520267</td>\n",
       "    </tr>\n",
       "  </tbody>\n",
       "</table>\n",
       "</div>"
      ],
      "text/plain": [
       "   year     age_range  deaths        pop   cube_rate  Number    Weight\n",
       "0  2019  65 and older  105771   49283871  214.615853  126387  0.126387\n",
       "1  2019      age 0-24      30   89271463    0.033605  353346  0.353346\n",
       "2  2019     age 25-64   34015  155096538   21.931502  520267  0.520267"
      ]
     },
     "execution_count": 41,
     "metadata": {},
     "output_type": "execute_result"
    }
   ],
   "source": [
    "cancer_all_races['cube_rate'] = (cancer_all_races['deaths'] / cancer_all_races['pop']) * 100000\n",
    "cancer_all_races = cancer_all_races.merge(standard_pop, on = ['age_range'], how = 'inner')\n",
    "cancer_all_races"
   ]
  },
  {
   "cell_type": "code",
   "execution_count": 42,
   "id": "ae3a6906-4bd2-455b-ab1d-7225784922d8",
   "metadata": {
    "tags": []
   },
   "outputs": [
    {
     "data": {
      "text/plain": [
       "Index(['year', 'age_range', 'deaths', 'pop', 'cube_rate', 'Number', 'Weight'], dtype='object')"
      ]
     },
     "execution_count": 42,
     "metadata": {},
     "output_type": "execute_result"
    }
   ],
   "source": [
    "cancer_all_races.columns"
   ]
  },
  {
   "cell_type": "code",
   "execution_count": 43,
   "id": "1f5b0afc-5e07-417a-95b8-dadc363220e8",
   "metadata": {
    "tags": []
   },
   "outputs": [
    {
     "data": {
      "text/html": [
       "<div>\n",
       "<style scoped>\n",
       "    .dataframe tbody tr th:only-of-type {\n",
       "        vertical-align: middle;\n",
       "    }\n",
       "\n",
       "    .dataframe tbody tr th {\n",
       "        vertical-align: top;\n",
       "    }\n",
       "\n",
       "    .dataframe thead th {\n",
       "        text-align: right;\n",
       "    }\n",
       "</style>\n",
       "<table border=\"1\" class=\"dataframe\">\n",
       "  <thead>\n",
       "    <tr style=\"text-align: right;\">\n",
       "      <th></th>\n",
       "      <th>year</th>\n",
       "      <th>age_range</th>\n",
       "      <th>deaths</th>\n",
       "      <th>pop</th>\n",
       "      <th>cube_rate</th>\n",
       "      <th>Number</th>\n",
       "      <th>Weight</th>\n",
       "      <th>cube_rate_weight</th>\n",
       "    </tr>\n",
       "  </thead>\n",
       "  <tbody>\n",
       "    <tr>\n",
       "      <th>0</th>\n",
       "      <td>2019</td>\n",
       "      <td>65 and older</td>\n",
       "      <td>105771</td>\n",
       "      <td>49283871</td>\n",
       "      <td>214.615853</td>\n",
       "      <td>126387</td>\n",
       "      <td>0.126387</td>\n",
       "      <td>27.124654</td>\n",
       "    </tr>\n",
       "    <tr>\n",
       "      <th>1</th>\n",
       "      <td>2019</td>\n",
       "      <td>age 0-24</td>\n",
       "      <td>30</td>\n",
       "      <td>89271463</td>\n",
       "      <td>0.033605</td>\n",
       "      <td>353346</td>\n",
       "      <td>0.353346</td>\n",
       "      <td>0.011874</td>\n",
       "    </tr>\n",
       "    <tr>\n",
       "      <th>2</th>\n",
       "      <td>2019</td>\n",
       "      <td>age 25-64</td>\n",
       "      <td>34015</td>\n",
       "      <td>155096538</td>\n",
       "      <td>21.931502</td>\n",
       "      <td>520267</td>\n",
       "      <td>0.520267</td>\n",
       "      <td>11.410237</td>\n",
       "    </tr>\n",
       "  </tbody>\n",
       "</table>\n",
       "</div>"
      ],
      "text/plain": [
       "   year     age_range  deaths        pop   cube_rate  Number    Weight   \n",
       "0  2019  65 and older  105771   49283871  214.615853  126387  0.126387  \\\n",
       "1  2019      age 0-24      30   89271463    0.033605  353346  0.353346   \n",
       "2  2019     age 25-64   34015  155096538   21.931502  520267  0.520267   \n",
       "\n",
       "   cube_rate_weight  \n",
       "0         27.124654  \n",
       "1          0.011874  \n",
       "2         11.410237  "
      ]
     },
     "execution_count": 43,
     "metadata": {},
     "output_type": "execute_result"
    }
   ],
   "source": [
    "cancer_all_races['cube_rate_weight'] = cancer_all_races['cube_rate'] * cancer_all_races['Weight']\n",
    "cancer_all_races"
   ]
  },
  {
   "cell_type": "code",
   "execution_count": 44,
   "id": "86157bd0-aae0-4d98-8469-8d15c0d1ce88",
   "metadata": {
    "tags": []
   },
   "outputs": [
    {
     "data": {
      "text/plain": [
       "{'All_Races_Total_Rate': 38.5}"
      ]
     },
     "execution_count": 44,
     "metadata": {},
     "output_type": "execute_result"
    }
   ],
   "source": [
    "dict_all_race = {}\n",
    "dict_all_race['All_Races_Total_Rate'] = round(sum(cancer_all_races['cube_rate_weight']),1)\n",
    "dict_all_race"
   ]
  },
  {
   "cell_type": "code",
   "execution_count": 45,
   "id": "690f4f37-09fe-494f-b694-945d21aa5983",
   "metadata": {
    "tags": []
   },
   "outputs": [],
   "source": [
    "data.update(dict_all_race)"
   ]
  },
  {
   "cell_type": "code",
   "execution_count": 46,
   "id": "08be9f84-6389-413b-8dd9-ac0053b2e57e",
   "metadata": {
    "tags": []
   },
   "outputs": [
    {
     "data": {
      "text/plain": [
       "{'All_Races_Total_Count': 139816,\n",
       " 'All_Races_Male_Count': 75006,\n",
       " 'All_Races_Female_Count': 64810,\n",
       " 'White_Total_Count': 119863,\n",
       " 'White_Male_Count': 63841,\n",
       " 'White_Female_Count': 56022,\n",
       " 'Black_Total_Count': 15120,\n",
       " 'Black_Male_Count': 8551,\n",
       " 'Black_Female_Count': 6569,\n",
       " 'All_Races_Total_Rate': 38.5}"
      ]
     },
     "execution_count": 46,
     "metadata": {},
     "output_type": "execute_result"
    }
   ],
   "source": [
    "data"
   ]
  },
  {
   "cell_type": "code",
   "execution_count": 47,
   "id": "77e03b31-90a7-42a6-85ed-cc3a38de4555",
   "metadata": {
    "tags": []
   },
   "outputs": [],
   "source": [
    "def age_adjusted_rate(df, df_type):\n",
    "    dict1 = {}\n",
    "    df = df.groupby(['year','age_range']).sum()\n",
    "    df = df.reset_index()\n",
    "    df['cube_rate'] = (df['deaths'] / df['pop']) * 100000\n",
    "    df = df.merge(standard_pop, on = ['age_range'], how = 'inner')\n",
    "    df['cube_rate_weight'] = df['cube_rate'] * df['Weight']\n",
    "    age_adjusted_rate = round(sum(df['cube_rate_weight']),1)\n",
    "    key = df_type + '_Rate'\n",
    "    dict1[key] = age_adjusted_rate\n",
    "    print('age_adjusted_rate for ' + df_type + ' :' + str(age_adjusted_rate))\n",
    "    return dict1"
   ]
  },
  {
   "cell_type": "code",
   "execution_count": 48,
   "id": "4d8d2d8c-c161-43e8-b2e3-80fc3c5cae39",
   "metadata": {
    "tags": []
   },
   "outputs": [
    {
     "data": {
      "text/html": [
       "<div>\n",
       "<style scoped>\n",
       "    .dataframe tbody tr th:only-of-type {\n",
       "        vertical-align: middle;\n",
       "    }\n",
       "\n",
       "    .dataframe tbody tr th {\n",
       "        vertical-align: top;\n",
       "    }\n",
       "\n",
       "    .dataframe thead th {\n",
       "        text-align: right;\n",
       "    }\n",
       "</style>\n",
       "<table border=\"1\" class=\"dataframe\">\n",
       "  <thead>\n",
       "    <tr style=\"text-align: right;\">\n",
       "      <th></th>\n",
       "      <th>year</th>\n",
       "      <th>sex</th>\n",
       "      <th>race</th>\n",
       "      <th>age_range</th>\n",
       "      <th>deaths</th>\n",
       "    </tr>\n",
       "  </thead>\n",
       "  <tbody>\n",
       "    <tr>\n",
       "      <th>9</th>\n",
       "      <td>2019</td>\n",
       "      <td>Male</td>\n",
       "      <td>Black</td>\n",
       "      <td>65 and older</td>\n",
       "      <td>5657</td>\n",
       "    </tr>\n",
       "    <tr>\n",
       "      <th>10</th>\n",
       "      <td>2019</td>\n",
       "      <td>Male</td>\n",
       "      <td>Black</td>\n",
       "      <td>age 0-24</td>\n",
       "      <td>5</td>\n",
       "    </tr>\n",
       "    <tr>\n",
       "      <th>11</th>\n",
       "      <td>2019</td>\n",
       "      <td>Male</td>\n",
       "      <td>Black</td>\n",
       "      <td>age 25-64</td>\n",
       "      <td>2889</td>\n",
       "    </tr>\n",
       "    <tr>\n",
       "      <th>12</th>\n",
       "      <td>2019</td>\n",
       "      <td>Male</td>\n",
       "      <td>Other</td>\n",
       "      <td>65 and older</td>\n",
       "      <td>1918</td>\n",
       "    </tr>\n",
       "    <tr>\n",
       "      <th>13</th>\n",
       "      <td>2019</td>\n",
       "      <td>Male</td>\n",
       "      <td>Other</td>\n",
       "      <td>age 25-64</td>\n",
       "      <td>696</td>\n",
       "    </tr>\n",
       "    <tr>\n",
       "      <th>14</th>\n",
       "      <td>2019</td>\n",
       "      <td>Male</td>\n",
       "      <td>White</td>\n",
       "      <td>65 and older</td>\n",
       "      <td>48751</td>\n",
       "    </tr>\n",
       "    <tr>\n",
       "      <th>15</th>\n",
       "      <td>2019</td>\n",
       "      <td>Male</td>\n",
       "      <td>White</td>\n",
       "      <td>age 0-24</td>\n",
       "      <td>10</td>\n",
       "    </tr>\n",
       "    <tr>\n",
       "      <th>16</th>\n",
       "      <td>2019</td>\n",
       "      <td>Male</td>\n",
       "      <td>White</td>\n",
       "      <td>age 25-64</td>\n",
       "      <td>15080</td>\n",
       "    </tr>\n",
       "  </tbody>\n",
       "</table>\n",
       "</div>"
      ],
      "text/plain": [
       "    year   sex   race     age_range  deaths\n",
       "9   2019  Male  Black  65 and older    5657\n",
       "10  2019  Male  Black      age 0-24       5\n",
       "11  2019  Male  Black     age 25-64    2889\n",
       "12  2019  Male  Other  65 and older    1918\n",
       "13  2019  Male  Other     age 25-64     696\n",
       "14  2019  Male  White  65 and older   48751\n",
       "15  2019  Male  White      age 0-24      10\n",
       "16  2019  Male  White     age 25-64   15080"
      ]
     },
     "execution_count": 48,
     "metadata": {},
     "output_type": "execute_result"
    }
   ],
   "source": [
    "all_male"
   ]
  },
  {
   "cell_type": "code",
   "execution_count": 49,
   "id": "589128a4-11e5-40a5-8e3b-9e9f1d6e0653",
   "metadata": {
    "tags": []
   },
   "outputs": [
    {
     "data": {
      "text/html": [
       "<div>\n",
       "<style scoped>\n",
       "    .dataframe tbody tr th:only-of-type {\n",
       "        vertical-align: middle;\n",
       "    }\n",
       "\n",
       "    .dataframe tbody tr th {\n",
       "        vertical-align: top;\n",
       "    }\n",
       "\n",
       "    .dataframe thead th {\n",
       "        text-align: right;\n",
       "    }\n",
       "</style>\n",
       "<table border=\"1\" class=\"dataframe\">\n",
       "  <thead>\n",
       "    <tr style=\"text-align: right;\">\n",
       "      <th></th>\n",
       "      <th>year</th>\n",
       "      <th>sex</th>\n",
       "      <th>race</th>\n",
       "      <th>age_range</th>\n",
       "      <th>deaths</th>\n",
       "    </tr>\n",
       "  </thead>\n",
       "  <tbody>\n",
       "    <tr>\n",
       "      <th>0</th>\n",
       "      <td>2019</td>\n",
       "      <td>Female</td>\n",
       "      <td>Black</td>\n",
       "      <td>65 and older</td>\n",
       "      <td>4553</td>\n",
       "    </tr>\n",
       "    <tr>\n",
       "      <th>1</th>\n",
       "      <td>2019</td>\n",
       "      <td>Female</td>\n",
       "      <td>Black</td>\n",
       "      <td>age 0-24</td>\n",
       "      <td>5</td>\n",
       "    </tr>\n",
       "    <tr>\n",
       "      <th>2</th>\n",
       "      <td>2019</td>\n",
       "      <td>Female</td>\n",
       "      <td>Black</td>\n",
       "      <td>age 25-64</td>\n",
       "      <td>2011</td>\n",
       "    </tr>\n",
       "    <tr>\n",
       "      <th>3</th>\n",
       "      <td>2019</td>\n",
       "      <td>Female</td>\n",
       "      <td>Other</td>\n",
       "      <td>65 and older</td>\n",
       "      <td>1638</td>\n",
       "    </tr>\n",
       "    <tr>\n",
       "      <th>4</th>\n",
       "      <td>2019</td>\n",
       "      <td>Female</td>\n",
       "      <td>Other</td>\n",
       "      <td>age 0-24</td>\n",
       "      <td>1</td>\n",
       "    </tr>\n",
       "    <tr>\n",
       "      <th>5</th>\n",
       "      <td>2019</td>\n",
       "      <td>Female</td>\n",
       "      <td>Other</td>\n",
       "      <td>age 25-64</td>\n",
       "      <td>580</td>\n",
       "    </tr>\n",
       "    <tr>\n",
       "      <th>6</th>\n",
       "      <td>2019</td>\n",
       "      <td>Female</td>\n",
       "      <td>White</td>\n",
       "      <td>65 and older</td>\n",
       "      <td>43254</td>\n",
       "    </tr>\n",
       "    <tr>\n",
       "      <th>7</th>\n",
       "      <td>2019</td>\n",
       "      <td>Female</td>\n",
       "      <td>White</td>\n",
       "      <td>age 0-24</td>\n",
       "      <td>9</td>\n",
       "    </tr>\n",
       "    <tr>\n",
       "      <th>8</th>\n",
       "      <td>2019</td>\n",
       "      <td>Female</td>\n",
       "      <td>White</td>\n",
       "      <td>age 25-64</td>\n",
       "      <td>12759</td>\n",
       "    </tr>\n",
       "  </tbody>\n",
       "</table>\n",
       "</div>"
      ],
      "text/plain": [
       "   year     sex   race     age_range  deaths\n",
       "0  2019  Female  Black  65 and older    4553\n",
       "1  2019  Female  Black      age 0-24       5\n",
       "2  2019  Female  Black     age 25-64    2011\n",
       "3  2019  Female  Other  65 and older    1638\n",
       "4  2019  Female  Other      age 0-24       1\n",
       "5  2019  Female  Other     age 25-64     580\n",
       "6  2019  Female  White  65 and older   43254\n",
       "7  2019  Female  White      age 0-24       9\n",
       "8  2019  Female  White     age 25-64   12759"
      ]
     },
     "execution_count": 49,
     "metadata": {},
     "output_type": "execute_result"
    }
   ],
   "source": [
    "all_female"
   ]
  },
  {
   "cell_type": "code",
   "execution_count": 50,
   "id": "8eec3517-625f-41ac-a962-e6e153e0a61a",
   "metadata": {
    "tags": []
   },
   "outputs": [
    {
     "name": "stdout",
     "output_type": "stream",
     "text": [
      "age_adjusted_rate for All_Races_Male :45.0\n"
     ]
    }
   ],
   "source": [
    "all_male = all_male.merge(pop_year, on = ['year', 'race', 'sex', 'age_range'], how = 'inner')\n",
    "all_male = all_male.drop(['sex', 'race'], axis = 1)\n",
    "all_male_rate = age_adjusted_rate(all_male, 'All_Races_Male')"
   ]
  },
  {
   "cell_type": "code",
   "execution_count": 51,
   "id": "63eacdb7-29e9-439d-acd4-914f35669e17",
   "metadata": {
    "tags": []
   },
   "outputs": [
    {
     "data": {
      "text/plain": [
       "{'All_Races_Male_Rate': 45.0}"
      ]
     },
     "execution_count": 51,
     "metadata": {},
     "output_type": "execute_result"
    }
   ],
   "source": [
    "all_male_rate"
   ]
  },
  {
   "cell_type": "code",
   "execution_count": 52,
   "id": "e39a1112-d89a-4a8f-86d0-fb94cc3b6861",
   "metadata": {
    "tags": []
   },
   "outputs": [],
   "source": [
    "data.update(all_male_rate)"
   ]
  },
  {
   "cell_type": "code",
   "execution_count": 53,
   "id": "01c212f4-63f9-4523-acdb-61ff3186f361",
   "metadata": {
    "tags": []
   },
   "outputs": [
    {
     "data": {
      "text/plain": [
       "{'All_Races_Total_Count': 139816,\n",
       " 'All_Races_Male_Count': 75006,\n",
       " 'All_Races_Female_Count': 64810,\n",
       " 'White_Total_Count': 119863,\n",
       " 'White_Male_Count': 63841,\n",
       " 'White_Female_Count': 56022,\n",
       " 'Black_Total_Count': 15120,\n",
       " 'Black_Male_Count': 8551,\n",
       " 'Black_Female_Count': 6569,\n",
       " 'All_Races_Total_Rate': 38.5,\n",
       " 'All_Races_Male_Rate': 45.0}"
      ]
     },
     "execution_count": 53,
     "metadata": {},
     "output_type": "execute_result"
    }
   ],
   "source": [
    "data"
   ]
  },
  {
   "cell_type": "code",
   "execution_count": 54,
   "id": "587a56cf-41b2-4fd9-b8f2-c296282ce47e",
   "metadata": {
    "tags": []
   },
   "outputs": [
    {
     "name": "stdout",
     "output_type": "stream",
     "text": [
      "age_adjusted_rate for All_Races_Female :33.1\n"
     ]
    }
   ],
   "source": [
    "all_female = all_female.merge(pop_year, on = ['year', 'race', 'sex', 'age_range'], how = 'inner')\n",
    "all_female = all_female.drop(['sex', 'race'], axis = 1)\n",
    "all_female_rate = age_adjusted_rate(all_female, 'All_Races_Female')"
   ]
  },
  {
   "cell_type": "code",
   "execution_count": 55,
   "id": "017a795a-3686-48e6-aeeb-584dcd7edf0c",
   "metadata": {
    "tags": []
   },
   "outputs": [
    {
     "data": {
      "text/plain": [
       "{'All_Races_Female_Rate': 33.1}"
      ]
     },
     "execution_count": 55,
     "metadata": {},
     "output_type": "execute_result"
    }
   ],
   "source": [
    "all_female_rate"
   ]
  },
  {
   "cell_type": "code",
   "execution_count": 56,
   "id": "12d28b9d-0a31-4501-8897-09610d02815d",
   "metadata": {
    "tags": []
   },
   "outputs": [],
   "source": [
    "data.update(all_female_rate)"
   ]
  },
  {
   "cell_type": "code",
   "execution_count": 57,
   "id": "d39b091d-80cb-4a6e-bbb9-57841df62956",
   "metadata": {
    "tags": []
   },
   "outputs": [
    {
     "data": {
      "text/plain": [
       "{'All_Races_Total_Count': 139816,\n",
       " 'All_Races_Male_Count': 75006,\n",
       " 'All_Races_Female_Count': 64810,\n",
       " 'White_Total_Count': 119863,\n",
       " 'White_Male_Count': 63841,\n",
       " 'White_Female_Count': 56022,\n",
       " 'Black_Total_Count': 15120,\n",
       " 'Black_Male_Count': 8551,\n",
       " 'Black_Female_Count': 6569,\n",
       " 'All_Races_Total_Rate': 38.5,\n",
       " 'All_Races_Male_Rate': 45.0,\n",
       " 'All_Races_Female_Rate': 33.1}"
      ]
     },
     "execution_count": 57,
     "metadata": {},
     "output_type": "execute_result"
    }
   ],
   "source": [
    "data"
   ]
  },
  {
   "cell_type": "code",
   "execution_count": 58,
   "id": "c6232b22-a828-49e4-9402-1db71fd4dad7",
   "metadata": {
    "tags": []
   },
   "outputs": [
    {
     "data": {
      "text/html": [
       "<div>\n",
       "<style scoped>\n",
       "    .dataframe tbody tr th:only-of-type {\n",
       "        vertical-align: middle;\n",
       "    }\n",
       "\n",
       "    .dataframe tbody tr th {\n",
       "        vertical-align: top;\n",
       "    }\n",
       "\n",
       "    .dataframe thead th {\n",
       "        text-align: right;\n",
       "    }\n",
       "</style>\n",
       "<table border=\"1\" class=\"dataframe\">\n",
       "  <thead>\n",
       "    <tr style=\"text-align: right;\">\n",
       "      <th></th>\n",
       "      <th>year</th>\n",
       "      <th>sex</th>\n",
       "      <th>race</th>\n",
       "      <th>age_range</th>\n",
       "      <th>deaths</th>\n",
       "    </tr>\n",
       "  </thead>\n",
       "  <tbody>\n",
       "    <tr>\n",
       "      <th>6</th>\n",
       "      <td>2019</td>\n",
       "      <td>Female</td>\n",
       "      <td>White</td>\n",
       "      <td>65 and older</td>\n",
       "      <td>43254</td>\n",
       "    </tr>\n",
       "    <tr>\n",
       "      <th>7</th>\n",
       "      <td>2019</td>\n",
       "      <td>Female</td>\n",
       "      <td>White</td>\n",
       "      <td>age 0-24</td>\n",
       "      <td>9</td>\n",
       "    </tr>\n",
       "    <tr>\n",
       "      <th>8</th>\n",
       "      <td>2019</td>\n",
       "      <td>Female</td>\n",
       "      <td>White</td>\n",
       "      <td>age 25-64</td>\n",
       "      <td>12759</td>\n",
       "    </tr>\n",
       "    <tr>\n",
       "      <th>14</th>\n",
       "      <td>2019</td>\n",
       "      <td>Male</td>\n",
       "      <td>White</td>\n",
       "      <td>65 and older</td>\n",
       "      <td>48751</td>\n",
       "    </tr>\n",
       "    <tr>\n",
       "      <th>15</th>\n",
       "      <td>2019</td>\n",
       "      <td>Male</td>\n",
       "      <td>White</td>\n",
       "      <td>age 0-24</td>\n",
       "      <td>10</td>\n",
       "    </tr>\n",
       "    <tr>\n",
       "      <th>16</th>\n",
       "      <td>2019</td>\n",
       "      <td>Male</td>\n",
       "      <td>White</td>\n",
       "      <td>age 25-64</td>\n",
       "      <td>15080</td>\n",
       "    </tr>\n",
       "  </tbody>\n",
       "</table>\n",
       "</div>"
      ],
      "text/plain": [
       "    year     sex   race     age_range  deaths\n",
       "6   2019  Female  White  65 and older   43254\n",
       "7   2019  Female  White      age 0-24       9\n",
       "8   2019  Female  White     age 25-64   12759\n",
       "14  2019    Male  White  65 and older   48751\n",
       "15  2019    Male  White      age 0-24      10\n",
       "16  2019    Male  White     age 25-64   15080"
      ]
     },
     "execution_count": 58,
     "metadata": {},
     "output_type": "execute_result"
    }
   ],
   "source": [
    "death_white"
   ]
  },
  {
   "cell_type": "code",
   "execution_count": 59,
   "id": "1d1bc2f6-9014-4512-95ce-936c75e14cf8",
   "metadata": {
    "tags": []
   },
   "outputs": [
    {
     "name": "stdout",
     "output_type": "stream",
     "text": [
      "age_adjusted_rate for White_Total :40.0\n"
     ]
    }
   ],
   "source": [
    "death_white = death_white.merge(pop_year, on = ['year', 'race', 'sex', 'age_range'], how = 'inner')\n",
    "death_white = death_white.drop(['sex', 'race'], axis = 1)\n",
    "death_white_rate = age_adjusted_rate(death_white, 'White_Total')"
   ]
  },
  {
   "cell_type": "code",
   "execution_count": 60,
   "id": "af4aa9dc-09cf-486e-b38b-572909622e37",
   "metadata": {
    "tags": []
   },
   "outputs": [
    {
     "data": {
      "text/plain": [
       "{'White_Total_Rate': 40.0}"
      ]
     },
     "execution_count": 60,
     "metadata": {},
     "output_type": "execute_result"
    }
   ],
   "source": [
    "death_white_rate"
   ]
  },
  {
   "cell_type": "code",
   "execution_count": 61,
   "id": "14b59fde-8a43-469e-98b7-4e99c22b61bd",
   "metadata": {
    "tags": []
   },
   "outputs": [],
   "source": [
    "data.update(death_white_rate)"
   ]
  },
  {
   "cell_type": "code",
   "execution_count": 62,
   "id": "aaccaae7-8320-4491-8e13-3e7f3bc3f002",
   "metadata": {
    "tags": []
   },
   "outputs": [
    {
     "data": {
      "text/plain": [
       "{'All_Races_Total_Count': 139816,\n",
       " 'All_Races_Male_Count': 75006,\n",
       " 'All_Races_Female_Count': 64810,\n",
       " 'White_Total_Count': 119863,\n",
       " 'White_Male_Count': 63841,\n",
       " 'White_Female_Count': 56022,\n",
       " 'Black_Total_Count': 15120,\n",
       " 'Black_Male_Count': 8551,\n",
       " 'Black_Female_Count': 6569,\n",
       " 'All_Races_Total_Rate': 38.5,\n",
       " 'All_Races_Male_Rate': 45.0,\n",
       " 'All_Races_Female_Rate': 33.1,\n",
       " 'White_Total_Rate': 40.0}"
      ]
     },
     "execution_count": 62,
     "metadata": {},
     "output_type": "execute_result"
    }
   ],
   "source": [
    "data"
   ]
  },
  {
   "cell_type": "code",
   "execution_count": 63,
   "id": "9d2ac607-cb10-4d6b-a974-de10f7c1f0f4",
   "metadata": {
    "tags": []
   },
   "outputs": [
    {
     "name": "stdout",
     "output_type": "stream",
     "text": [
      "age_adjusted_rate for Black_Total :38.2\n"
     ]
    }
   ],
   "source": [
    "death_black = death_black.merge(pop_year, on = ['year', 'race', 'sex', 'age_range'], how = 'inner')\n",
    "death_black = death_black.drop(['sex', 'race'], axis = 1)\n",
    "death_black_rate = age_adjusted_rate(death_black, 'Black_Total')"
   ]
  },
  {
   "cell_type": "code",
   "execution_count": 64,
   "id": "bb17c725-845f-4c20-a4f9-22742a7cbe78",
   "metadata": {
    "tags": []
   },
   "outputs": [
    {
     "data": {
      "text/plain": [
       "{'Black_Total_Rate': 38.2}"
      ]
     },
     "execution_count": 64,
     "metadata": {},
     "output_type": "execute_result"
    }
   ],
   "source": [
    "death_black_rate"
   ]
  },
  {
   "cell_type": "code",
   "execution_count": 65,
   "id": "27e2db5d-1fab-4c51-b403-97a7f0569925",
   "metadata": {
    "tags": []
   },
   "outputs": [],
   "source": [
    "data.update(death_black_rate)"
   ]
  },
  {
   "cell_type": "code",
   "execution_count": 66,
   "id": "66585c2f-a3eb-4cff-b238-f499b9454cfd",
   "metadata": {
    "tags": []
   },
   "outputs": [
    {
     "data": {
      "text/plain": [
       "{'All_Races_Total_Count': 139816,\n",
       " 'All_Races_Male_Count': 75006,\n",
       " 'All_Races_Female_Count': 64810,\n",
       " 'White_Total_Count': 119863,\n",
       " 'White_Male_Count': 63841,\n",
       " 'White_Female_Count': 56022,\n",
       " 'Black_Total_Count': 15120,\n",
       " 'Black_Male_Count': 8551,\n",
       " 'Black_Female_Count': 6569,\n",
       " 'All_Races_Total_Rate': 38.5,\n",
       " 'All_Races_Male_Rate': 45.0,\n",
       " 'All_Races_Female_Rate': 33.1,\n",
       " 'White_Total_Rate': 40.0,\n",
       " 'Black_Total_Rate': 38.2}"
      ]
     },
     "execution_count": 66,
     "metadata": {},
     "output_type": "execute_result"
    }
   ],
   "source": [
    "data"
   ]
  },
  {
   "cell_type": "code",
   "execution_count": 67,
   "id": "0687a38a-f129-4b62-9a6e-41d937861e4b",
   "metadata": {
    "tags": []
   },
   "outputs": [
    {
     "data": {
      "text/html": [
       "<div>\n",
       "<style scoped>\n",
       "    .dataframe tbody tr th:only-of-type {\n",
       "        vertical-align: middle;\n",
       "    }\n",
       "\n",
       "    .dataframe tbody tr th {\n",
       "        vertical-align: top;\n",
       "    }\n",
       "\n",
       "    .dataframe thead th {\n",
       "        text-align: right;\n",
       "    }\n",
       "</style>\n",
       "<table border=\"1\" class=\"dataframe\">\n",
       "  <thead>\n",
       "    <tr style=\"text-align: right;\">\n",
       "      <th></th>\n",
       "      <th>year</th>\n",
       "      <th>sex</th>\n",
       "      <th>race</th>\n",
       "      <th>age_range</th>\n",
       "      <th>deaths</th>\n",
       "    </tr>\n",
       "  </thead>\n",
       "  <tbody>\n",
       "    <tr>\n",
       "      <th>14</th>\n",
       "      <td>2019</td>\n",
       "      <td>Male</td>\n",
       "      <td>White</td>\n",
       "      <td>65 and older</td>\n",
       "      <td>48751</td>\n",
       "    </tr>\n",
       "    <tr>\n",
       "      <th>15</th>\n",
       "      <td>2019</td>\n",
       "      <td>Male</td>\n",
       "      <td>White</td>\n",
       "      <td>age 0-24</td>\n",
       "      <td>10</td>\n",
       "    </tr>\n",
       "    <tr>\n",
       "      <th>16</th>\n",
       "      <td>2019</td>\n",
       "      <td>Male</td>\n",
       "      <td>White</td>\n",
       "      <td>age 25-64</td>\n",
       "      <td>15080</td>\n",
       "    </tr>\n",
       "  </tbody>\n",
       "</table>\n",
       "</div>"
      ],
      "text/plain": [
       "    year   sex   race     age_range  deaths\n",
       "14  2019  Male  White  65 and older   48751\n",
       "15  2019  Male  White      age 0-24      10\n",
       "16  2019  Male  White     age 25-64   15080"
      ]
     },
     "execution_count": 67,
     "metadata": {},
     "output_type": "execute_result"
    }
   ],
   "source": [
    "white_male"
   ]
  },
  {
   "cell_type": "code",
   "execution_count": 68,
   "id": "19314adb-bac3-4dd5-83aa-eb622820ef03",
   "metadata": {
    "tags": []
   },
   "outputs": [
    {
     "name": "stdout",
     "output_type": "stream",
     "text": [
      "age_adjusted_rate for White_Male :45.8\n"
     ]
    }
   ],
   "source": [
    "white_male = white_male.merge(pop_year, on = ['year', 'race', 'sex', 'age_range'], how = 'inner')\n",
    "white_male = white_male.drop(['sex', 'race'], axis = 1)\n",
    "white_male_rate = age_adjusted_rate(white_male, 'White_Male')"
   ]
  },
  {
   "cell_type": "code",
   "execution_count": 69,
   "id": "7dc20761-82a5-4c1b-a41e-fc5bb4a92148",
   "metadata": {
    "tags": []
   },
   "outputs": [
    {
     "data": {
      "text/plain": [
       "{'White_Male_Rate': 45.8}"
      ]
     },
     "execution_count": 69,
     "metadata": {},
     "output_type": "execute_result"
    }
   ],
   "source": [
    "white_male_rate"
   ]
  },
  {
   "cell_type": "code",
   "execution_count": 70,
   "id": "6080626f-f853-4965-a601-ecd77e7d5692",
   "metadata": {
    "tags": []
   },
   "outputs": [],
   "source": [
    "data.update(white_male_rate)"
   ]
  },
  {
   "cell_type": "code",
   "execution_count": 71,
   "id": "1d558a94-618a-4a39-9af5-0d2f9d59e9d5",
   "metadata": {
    "tags": []
   },
   "outputs": [
    {
     "data": {
      "text/plain": [
       "{'All_Races_Total_Count': 139816,\n",
       " 'All_Races_Male_Count': 75006,\n",
       " 'All_Races_Female_Count': 64810,\n",
       " 'White_Total_Count': 119863,\n",
       " 'White_Male_Count': 63841,\n",
       " 'White_Female_Count': 56022,\n",
       " 'Black_Total_Count': 15120,\n",
       " 'Black_Male_Count': 8551,\n",
       " 'Black_Female_Count': 6569,\n",
       " 'All_Races_Total_Rate': 38.5,\n",
       " 'All_Races_Male_Rate': 45.0,\n",
       " 'All_Races_Female_Rate': 33.1,\n",
       " 'White_Total_Rate': 40.0,\n",
       " 'Black_Total_Rate': 38.2,\n",
       " 'White_Male_Rate': 45.8}"
      ]
     },
     "execution_count": 71,
     "metadata": {},
     "output_type": "execute_result"
    }
   ],
   "source": [
    "data"
   ]
  },
  {
   "cell_type": "code",
   "execution_count": 72,
   "id": "04f1bc07-89a5-44ef-8633-520ee1243d7e",
   "metadata": {
    "tags": []
   },
   "outputs": [
    {
     "name": "stdout",
     "output_type": "stream",
     "text": [
      "age_adjusted_rate for White_Female :35.1\n"
     ]
    }
   ],
   "source": [
    "white_female = white_female.merge(pop_year, on = ['year', 'race', 'sex', 'age_range'], how = 'inner')\n",
    "white_female = white_female.drop(['sex', 'race'], axis = 1)\n",
    "white_female_rate = age_adjusted_rate(white_female, 'White_Female')"
   ]
  },
  {
   "cell_type": "code",
   "execution_count": 73,
   "id": "ad2195b2-273f-4899-8f70-7592d7ec8708",
   "metadata": {
    "tags": []
   },
   "outputs": [
    {
     "data": {
      "text/plain": [
       "{'White_Female_Rate': 35.1}"
      ]
     },
     "execution_count": 73,
     "metadata": {},
     "output_type": "execute_result"
    }
   ],
   "source": [
    "white_female_rate"
   ]
  },
  {
   "cell_type": "code",
   "execution_count": 74,
   "id": "849b5a36-3f4f-4173-b229-d29d27e35f7c",
   "metadata": {
    "tags": []
   },
   "outputs": [],
   "source": [
    "data.update(white_female_rate)"
   ]
  },
  {
   "cell_type": "code",
   "execution_count": 75,
   "id": "92d303de-4a8e-4037-909c-5308584116d9",
   "metadata": {
    "tags": []
   },
   "outputs": [
    {
     "data": {
      "text/plain": [
       "{'All_Races_Total_Count': 139816,\n",
       " 'All_Races_Male_Count': 75006,\n",
       " 'All_Races_Female_Count': 64810,\n",
       " 'White_Total_Count': 119863,\n",
       " 'White_Male_Count': 63841,\n",
       " 'White_Female_Count': 56022,\n",
       " 'Black_Total_Count': 15120,\n",
       " 'Black_Male_Count': 8551,\n",
       " 'Black_Female_Count': 6569,\n",
       " 'All_Races_Total_Rate': 38.5,\n",
       " 'All_Races_Male_Rate': 45.0,\n",
       " 'All_Races_Female_Rate': 33.1,\n",
       " 'White_Total_Rate': 40.0,\n",
       " 'Black_Total_Rate': 38.2,\n",
       " 'White_Male_Rate': 45.8,\n",
       " 'White_Female_Rate': 35.1}"
      ]
     },
     "execution_count": 75,
     "metadata": {},
     "output_type": "execute_result"
    }
   ],
   "source": [
    "data"
   ]
  },
  {
   "cell_type": "code",
   "execution_count": 76,
   "id": "c8f1e60d-6a91-450f-8ce1-7835c2658a48",
   "metadata": {
    "tags": []
   },
   "outputs": [
    {
     "name": "stdout",
     "output_type": "stream",
     "text": [
      "age_adjusted_rate for Black_Male :50.9\n"
     ]
    }
   ],
   "source": [
    "black_male = black_male.merge(pop_year, on = ['year', 'race', 'sex', 'age_range'], how = 'inner')\n",
    "black_male = black_male.drop(['sex', 'race'], axis = 1)\n",
    "black_male_rate = age_adjusted_rate(black_male, 'Black_Male')"
   ]
  },
  {
   "cell_type": "code",
   "execution_count": 77,
   "id": "8feaadd6-488b-4b5f-b4fb-f3bac4552901",
   "metadata": {
    "tags": []
   },
   "outputs": [
    {
     "data": {
      "text/plain": [
       "{'Black_Male_Rate': 50.9}"
      ]
     },
     "execution_count": 77,
     "metadata": {},
     "output_type": "execute_result"
    }
   ],
   "source": [
    "black_male_rate"
   ]
  },
  {
   "cell_type": "code",
   "execution_count": 78,
   "id": "8db69aa2-7f02-4a58-b569-fd014131d6a6",
   "metadata": {
    "tags": []
   },
   "outputs": [],
   "source": [
    "data.update(black_male_rate)"
   ]
  },
  {
   "cell_type": "code",
   "execution_count": 79,
   "id": "efb03a66-8b2f-4586-b230-56341664ce3c",
   "metadata": {
    "tags": []
   },
   "outputs": [
    {
     "data": {
      "text/plain": [
       "{'All_Races_Total_Count': 139816,\n",
       " 'All_Races_Male_Count': 75006,\n",
       " 'All_Races_Female_Count': 64810,\n",
       " 'White_Total_Count': 119863,\n",
       " 'White_Male_Count': 63841,\n",
       " 'White_Female_Count': 56022,\n",
       " 'Black_Total_Count': 15120,\n",
       " 'Black_Male_Count': 8551,\n",
       " 'Black_Female_Count': 6569,\n",
       " 'All_Races_Total_Rate': 38.5,\n",
       " 'All_Races_Male_Rate': 45.0,\n",
       " 'All_Races_Female_Rate': 33.1,\n",
       " 'White_Total_Rate': 40.0,\n",
       " 'Black_Total_Rate': 38.2,\n",
       " 'White_Male_Rate': 45.8,\n",
       " 'White_Female_Rate': 35.1,\n",
       " 'Black_Male_Rate': 50.9}"
      ]
     },
     "execution_count": 79,
     "metadata": {},
     "output_type": "execute_result"
    }
   ],
   "source": [
    "data"
   ]
  },
  {
   "cell_type": "code",
   "execution_count": 80,
   "id": "adf7656b-ad00-40f9-8f2a-03d139b6592e",
   "metadata": {
    "tags": []
   },
   "outputs": [
    {
     "name": "stdout",
     "output_type": "stream",
     "text": [
      "age_adjusted_rate for Black_Female :29.0\n"
     ]
    }
   ],
   "source": [
    "black_female = black_female.merge(pop_year, on = ['year', 'race', 'sex', 'age_range'], how = 'inner')\n",
    "black_female = black_female.drop(['sex', 'race'], axis = 1)\n",
    "black_female_rate = age_adjusted_rate(black_female, 'Black_Female')"
   ]
  },
  {
   "cell_type": "code",
   "execution_count": 81,
   "id": "7f0f25fd-2fe9-4783-aeac-e95eb6746ade",
   "metadata": {
    "tags": []
   },
   "outputs": [
    {
     "data": {
      "text/plain": [
       "{'Black_Female_Rate': 29.0}"
      ]
     },
     "execution_count": 81,
     "metadata": {},
     "output_type": "execute_result"
    }
   ],
   "source": [
    "black_female_rate"
   ]
  },
  {
   "cell_type": "code",
   "execution_count": 82,
   "id": "6f689bbb-6d94-4e5a-a6e7-dcc4b50db237",
   "metadata": {
    "tags": []
   },
   "outputs": [],
   "source": [
    "data.update(black_female_rate)"
   ]
  },
  {
   "cell_type": "code",
   "execution_count": 83,
   "id": "a2279705-55b8-4069-b5bf-f05c86741751",
   "metadata": {
    "tags": []
   },
   "outputs": [
    {
     "data": {
      "text/plain": [
       "{'All_Races_Total_Count': 139816,\n",
       " 'All_Races_Male_Count': 75006,\n",
       " 'All_Races_Female_Count': 64810,\n",
       " 'White_Total_Count': 119863,\n",
       " 'White_Male_Count': 63841,\n",
       " 'White_Female_Count': 56022,\n",
       " 'Black_Total_Count': 15120,\n",
       " 'Black_Male_Count': 8551,\n",
       " 'Black_Female_Count': 6569,\n",
       " 'All_Races_Total_Rate': 38.5,\n",
       " 'All_Races_Male_Rate': 45.0,\n",
       " 'All_Races_Female_Rate': 33.1,\n",
       " 'White_Total_Rate': 40.0,\n",
       " 'Black_Total_Rate': 38.2,\n",
       " 'White_Male_Rate': 45.8,\n",
       " 'White_Female_Rate': 35.1,\n",
       " 'Black_Male_Rate': 50.9,\n",
       " 'Black_Female_Rate': 29.0}"
      ]
     },
     "execution_count": 83,
     "metadata": {},
     "output_type": "execute_result"
    }
   ],
   "source": [
    "data"
   ]
  },
  {
   "cell_type": "code",
   "execution_count": 84,
   "id": "17bd180d-4136-4a1e-8f44-1f4fd6e8173c",
   "metadata": {
    "tags": []
   },
   "outputs": [],
   "source": [
    "data['year'] = year"
   ]
  },
  {
   "cell_type": "code",
   "execution_count": 85,
   "id": "bb418d76-4723-48d9-8425-33cabdb3eaea",
   "metadata": {
    "tags": []
   },
   "outputs": [
    {
     "data": {
      "text/plain": [
       "{'All_Races_Total_Count': 139816,\n",
       " 'All_Races_Male_Count': 75006,\n",
       " 'All_Races_Female_Count': 64810,\n",
       " 'White_Total_Count': 119863,\n",
       " 'White_Male_Count': 63841,\n",
       " 'White_Female_Count': 56022,\n",
       " 'Black_Total_Count': 15120,\n",
       " 'Black_Male_Count': 8551,\n",
       " 'Black_Female_Count': 6569,\n",
       " 'All_Races_Total_Rate': 38.5,\n",
       " 'All_Races_Male_Rate': 45.0,\n",
       " 'All_Races_Female_Rate': 33.1,\n",
       " 'White_Total_Rate': 40.0,\n",
       " 'Black_Total_Rate': 38.2,\n",
       " 'White_Male_Rate': 45.8,\n",
       " 'White_Female_Rate': 35.1,\n",
       " 'Black_Male_Rate': 50.9,\n",
       " 'Black_Female_Rate': 29.0,\n",
       " 'year': 2019}"
      ]
     },
     "execution_count": 85,
     "metadata": {},
     "output_type": "execute_result"
    }
   ],
   "source": [
    "data"
   ]
  },
  {
   "cell_type": "code",
   "execution_count": 86,
   "id": "3542c139-50cc-4db0-a2d0-3f5829d90408",
   "metadata": {
    "tags": []
   },
   "outputs": [
    {
     "data": {
      "text/html": [
       "<div>\n",
       "<style scoped>\n",
       "    .dataframe tbody tr th:only-of-type {\n",
       "        vertical-align: middle;\n",
       "    }\n",
       "\n",
       "    .dataframe tbody tr th {\n",
       "        vertical-align: top;\n",
       "    }\n",
       "\n",
       "    .dataframe thead th {\n",
       "        text-align: right;\n",
       "    }\n",
       "</style>\n",
       "<table border=\"1\" class=\"dataframe\">\n",
       "  <thead>\n",
       "    <tr style=\"text-align: right;\">\n",
       "      <th></th>\n",
       "      <th>All_Races_Total_Count</th>\n",
       "      <th>All_Races_Male_Count</th>\n",
       "      <th>All_Races_Female_Count</th>\n",
       "      <th>White_Total_Count</th>\n",
       "      <th>White_Male_Count</th>\n",
       "      <th>White_Female_Count</th>\n",
       "      <th>Black_Total_Count</th>\n",
       "      <th>Black_Male_Count</th>\n",
       "      <th>Black_Female_Count</th>\n",
       "      <th>All_Races_Total_Rate</th>\n",
       "      <th>All_Races_Male_Rate</th>\n",
       "      <th>All_Races_Female_Rate</th>\n",
       "      <th>White_Total_Rate</th>\n",
       "      <th>Black_Total_Rate</th>\n",
       "      <th>White_Male_Rate</th>\n",
       "      <th>White_Female_Rate</th>\n",
       "      <th>Black_Male_Rate</th>\n",
       "      <th>Black_Female_Rate</th>\n",
       "      <th>year</th>\n",
       "    </tr>\n",
       "  </thead>\n",
       "  <tbody>\n",
       "    <tr>\n",
       "      <th>0</th>\n",
       "      <td>139816</td>\n",
       "      <td>75006</td>\n",
       "      <td>64810</td>\n",
       "      <td>119863</td>\n",
       "      <td>63841</td>\n",
       "      <td>56022</td>\n",
       "      <td>15120</td>\n",
       "      <td>8551</td>\n",
       "      <td>6569</td>\n",
       "      <td>38.5</td>\n",
       "      <td>45.0</td>\n",
       "      <td>33.1</td>\n",
       "      <td>40.0</td>\n",
       "      <td>38.2</td>\n",
       "      <td>45.8</td>\n",
       "      <td>35.1</td>\n",
       "      <td>50.9</td>\n",
       "      <td>29.0</td>\n",
       "      <td>2019</td>\n",
       "    </tr>\n",
       "  </tbody>\n",
       "</table>\n",
       "</div>"
      ],
      "text/plain": [
       "   All_Races_Total_Count  All_Races_Male_Count  All_Races_Female_Count   \n",
       "0                 139816                 75006                   64810  \\\n",
       "\n",
       "   White_Total_Count  White_Male_Count  White_Female_Count  Black_Total_Count   \n",
       "0             119863             63841               56022              15120  \\\n",
       "\n",
       "   Black_Male_Count  Black_Female_Count  All_Races_Total_Rate   \n",
       "0              8551                6569                  38.5  \\\n",
       "\n",
       "   All_Races_Male_Rate  All_Races_Female_Rate  White_Total_Rate   \n",
       "0                 45.0                   33.1              40.0  \\\n",
       "\n",
       "   Black_Total_Rate  White_Male_Rate  White_Female_Rate  Black_Male_Rate   \n",
       "0              38.2             45.8               35.1             50.9  \\\n",
       "\n",
       "   Black_Female_Rate  year  \n",
       "0               29.0  2019  "
      ]
     },
     "execution_count": 86,
     "metadata": {},
     "output_type": "execute_result"
    }
   ],
   "source": [
    "df = pd.DataFrame([data])\n",
    "df"
   ]
  },
  {
   "cell_type": "code",
   "execution_count": 87,
   "id": "a6ca2727-9131-4707-978d-1d3565baab79",
   "metadata": {
    "tags": []
   },
   "outputs": [
    {
     "data": {
      "text/plain": [
       "Index(['All_Races_Total_Count', 'All_Races_Male_Count',\n",
       "       'All_Races_Female_Count', 'White_Total_Count', 'White_Male_Count',\n",
       "       'White_Female_Count', 'Black_Total_Count', 'Black_Male_Count',\n",
       "       'Black_Female_Count', 'All_Races_Total_Rate', 'All_Races_Male_Rate',\n",
       "       'All_Races_Female_Rate', 'White_Total_Rate', 'Black_Total_Rate',\n",
       "       'White_Male_Rate', 'White_Female_Rate', 'Black_Male_Rate',\n",
       "       'Black_Female_Rate', 'year'],\n",
       "      dtype='object')"
      ]
     },
     "execution_count": 87,
     "metadata": {},
     "output_type": "execute_result"
    }
   ],
   "source": [
    "df.columns"
   ]
  },
  {
   "cell_type": "code",
   "execution_count": 88,
   "id": "2f802d93-6876-4d2a-86aa-0decb33db1ce",
   "metadata": {
    "tags": []
   },
   "outputs": [
    {
     "data": {
      "text/html": [
       "<div>\n",
       "<style scoped>\n",
       "    .dataframe tbody tr th:only-of-type {\n",
       "        vertical-align: middle;\n",
       "    }\n",
       "\n",
       "    .dataframe tbody tr th {\n",
       "        vertical-align: top;\n",
       "    }\n",
       "\n",
       "    .dataframe thead th {\n",
       "        text-align: right;\n",
       "    }\n",
       "</style>\n",
       "<table border=\"1\" class=\"dataframe\">\n",
       "  <thead>\n",
       "    <tr style=\"text-align: right;\">\n",
       "      <th></th>\n",
       "      <th>year</th>\n",
       "      <th>All_Races_Total_Count</th>\n",
       "      <th>All_Races_Total_Rate</th>\n",
       "      <th>All_Races_Male_Count</th>\n",
       "      <th>All_Races_Male_Rate</th>\n",
       "      <th>All_Races_Female_Count</th>\n",
       "      <th>All_Races_Female_Rate</th>\n",
       "      <th>White_Total_Count</th>\n",
       "      <th>White_Total_Rate</th>\n",
       "      <th>White_Male_Count</th>\n",
       "      <th>White_Male_Rate</th>\n",
       "      <th>White_Female_Count</th>\n",
       "      <th>White_Female_Rate</th>\n",
       "      <th>Black_Total_Count</th>\n",
       "      <th>Black_Total_Rate</th>\n",
       "      <th>Black_Male_Count</th>\n",
       "      <th>Black_Male_Rate</th>\n",
       "      <th>Black_Female_Count</th>\n",
       "      <th>Black_Female_Rate</th>\n",
       "    </tr>\n",
       "  </thead>\n",
       "  <tbody>\n",
       "    <tr>\n",
       "      <th>0</th>\n",
       "      <td>2019</td>\n",
       "      <td>139816</td>\n",
       "      <td>38.5</td>\n",
       "      <td>75006</td>\n",
       "      <td>45.0</td>\n",
       "      <td>64810</td>\n",
       "      <td>33.1</td>\n",
       "      <td>119863</td>\n",
       "      <td>40.0</td>\n",
       "      <td>63841</td>\n",
       "      <td>45.8</td>\n",
       "      <td>56022</td>\n",
       "      <td>35.1</td>\n",
       "      <td>15120</td>\n",
       "      <td>38.2</td>\n",
       "      <td>8551</td>\n",
       "      <td>50.9</td>\n",
       "      <td>6569</td>\n",
       "      <td>29.0</td>\n",
       "    </tr>\n",
       "  </tbody>\n",
       "</table>\n",
       "</div>"
      ],
      "text/plain": [
       "   year  All_Races_Total_Count  All_Races_Total_Rate  All_Races_Male_Count   \n",
       "0  2019                 139816                  38.5                 75006  \\\n",
       "\n",
       "   All_Races_Male_Rate  All_Races_Female_Count  All_Races_Female_Rate   \n",
       "0                 45.0                   64810                   33.1  \\\n",
       "\n",
       "   White_Total_Count  White_Total_Rate  White_Male_Count  White_Male_Rate   \n",
       "0             119863              40.0             63841             45.8  \\\n",
       "\n",
       "   White_Female_Count  White_Female_Rate  Black_Total_Count  Black_Total_Rate   \n",
       "0               56022               35.1              15120              38.2  \\\n",
       "\n",
       "   Black_Male_Count  Black_Male_Rate  Black_Female_Count  Black_Female_Rate  \n",
       "0              8551             50.9                6569               29.0  "
      ]
     },
     "execution_count": 88,
     "metadata": {},
     "output_type": "execute_result"
    }
   ],
   "source": [
    "column_valid = ['year', 'All_Races_Total_Count', 'All_Races_Total_Rate', 'All_Races_Male_Count', 'All_Races_Male_Rate', 'All_Races_Female_Count', 'All_Races_Female_Rate', 'White_Total_Count', 'White_Total_Rate',\n",
    "               'White_Male_Count', 'White_Male_Rate', 'White_Female_Count', 'White_Female_Rate', 'Black_Total_Count', 'Black_Total_Rate', 'Black_Male_Count', 'Black_Male_Rate', 'Black_Female_Count', 'Black_Female_Rate']\n",
    "df_valid = df[column_valid]\n",
    "df_valid"
   ]
  },
  {
   "cell_type": "code",
   "execution_count": 89,
   "id": "82805245-fdaa-44b4-aefb-433ad48fd356",
   "metadata": {
    "tags": []
   },
   "outputs": [],
   "source": [
    "df_valid.to_csv('age_adjusted/age_adjusted_' + str(year) + '.csv')"
   ]
  },
  {
   "cell_type": "code",
   "execution_count": null,
   "id": "e1ecb16c-2da9-4db9-9de9-eb66751d59f2",
   "metadata": {},
   "outputs": [],
   "source": []
  }
 ],
 "metadata": {
  "kernelspec": {
   "display_name": "MyEnv3",
   "language": "python",
   "name": "myenv3"
  },
  "language_info": {
   "codemirror_mode": {
    "name": "ipython",
    "version": 3
   },
   "file_extension": ".py",
   "mimetype": "text/x-python",
   "name": "python",
   "nbconvert_exporter": "python",
   "pygments_lexer": "ipython3",
   "version": "3.9.16"
  }
 },
 "nbformat": 4,
 "nbformat_minor": 5
}
